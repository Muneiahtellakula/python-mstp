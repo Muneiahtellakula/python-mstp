{
 "cells": [
  {
   "cell_type": "code",
   "execution_count": 8,
   "metadata": {},
   "outputs": [
    {
     "name": "stdout",
     "output_type": "stream",
     "text": [
      "\n",
      " -----\n",
      "|1|2|3|\n",
      " -----\n",
      "|4|5|6|\n",
      " -----\n",
      "|7|8|9|\n",
      " -----\n",
      "\n",
      "Player 1:\n",
      ">> 1\n",
      "\n",
      " -----\n",
      "|X|2|3|\n",
      " -----\n",
      "|4|5|6|\n",
      " -----\n",
      "|7|8|9|\n",
      " -----\n",
      "\n",
      "Player 2:\n",
      ">> 5\n",
      "\n",
      " -----\n",
      "|X|2|3|\n",
      " -----\n",
      "|4|O|6|\n",
      " -----\n",
      "|7|8|9|\n",
      " -----\n",
      "\n",
      "Player 1:\n",
      ">> 2\n",
      "\n",
      " -----\n",
      "|X|X|3|\n",
      " -----\n",
      "|4|O|6|\n",
      " -----\n",
      "|7|8|9|\n",
      " -----\n",
      "\n",
      "Player 2:\n",
      ">> 3\n",
      "\n",
      " -----\n",
      "|X|X|O|\n",
      " -----\n",
      "|4|O|6|\n",
      " -----\n",
      "|7|8|9|\n",
      " -----\n",
      "\n",
      "Player 1:\n",
      ">> 8\n",
      "\n",
      " -----\n",
      "|X|X|O|\n",
      " -----\n",
      "|4|O|6|\n",
      " -----\n",
      "|7|X|9|\n",
      " -----\n",
      "\n",
      "Player 2:\n",
      ">> 7\n",
      "\n",
      " -----\n",
      "|X|X|O|\n",
      " -----\n",
      "|4|O|6|\n",
      " -----\n",
      "|O|X|9|\n",
      " -----\n",
      "\n",
      "Player 2 wins!\n",
      "\n"
     ]
    }
   ],
   "source": [
    "\n",
    "\"\"\"tictactoe game for 2 players\n",
    "from blogpost: http://thebillington.co.uk/blog/posts/writing-a-tic-tac-toe-game-in-python by  BILLY REBECCHI,\n",
    "slightly improved by Horst JENS\"\"\"\n",
    "from __future__ import print_function\n",
    "\n",
    "choices = [] \n",
    "\n",
    "for x in range (0, 9) :\n",
    "    choices.append(str(x + 1))\n",
    "\n",
    "playerOneTurn = True\n",
    "winner = False\n",
    "\n",
    "def printBoard() :\n",
    "    print( '\\n -----')\n",
    "    print( '|' + choices[0] + '|' + choices[1] + '|' + choices[2] + '|')\n",
    "    print( ' -----')\n",
    "    print( '|' + choices[3] + '|' + choices[4] + '|' + choices[5] + '|')\n",
    "    print( ' -----')\n",
    "    print( '|' + choices[6] + '|' + choices[7] + '|' + choices[8] + '|')\n",
    "    print( ' -----\\n')\n",
    "\n",
    "while not winner :\n",
    "    printBoard()\n",
    "\n",
    "    if playerOneTurn :\n",
    "        print( \"Player 1:\")\n",
    "    else :\n",
    "        print( \"Player 2:\")\n",
    "\n",
    "    try:\n",
    "        choice = int(input(\">> \"))\n",
    "    except:\n",
    "        print(\"please enter a valid field\")\n",
    "        continue\n",
    "    if choices[choice - 1] == 'X' or choices [choice-1] == 'O':\n",
    "        print(\"illegal move, plase try again\")\n",
    "        continue\n",
    "\n",
    "    if playerOneTurn :\n",
    "        choices[choice - 1] = 'X'\n",
    "    else :\n",
    "        choices[choice - 1] = 'O'\n",
    "\n",
    "    playerOneTurn = not playerOneTurn\n",
    "\n",
    "    for x in range (0, 3) :\n",
    "        y = x * 3\n",
    "        if (choices[y] == choices[(y + 1)] and choices[y] == choices[(y + 2)]) :\n",
    "            winner = True\n",
    "            printBoard()\n",
    "        if (choices[x] == choices[(x + 3)] and choices[x] == choices[(x + 6)]) :\n",
    "            winner = True\n",
    "            printBoard()\n",
    "\n",
    "    if((choices[0] == choices[4] and choices[0] == choices[8]) or \n",
    "       (choices[2] == choices[4] and choices[4] == choices[6])) :\n",
    "        winner = True\n",
    "        printBoard()\n",
    "\n",
    "print (\"Player \" + str(int(playerOneTurn + 1)) + \" wins!\\n\")"
   ]
  },
  {
   "cell_type": "code",
   "execution_count": null,
   "metadata": {},
   "outputs": [],
   "source": [
    "###### n1=input().split()\n",
    "n2=input().split()\n",
    "n3=input().split()\n",
    "n4=input().split()\n",
    "n5=input().split()\n",
    "n6=input().split()\n",
    "# print(n1)\n",
    "# print(n2)\n",
    "# print(n3)\n",
    "# if choices[choice - 1] == 'X' or choices [choice-1] == 'O':\n",
    "#     continue\n",
    "\n",
    "if playerOneTurn :\n",
    "    choices[choice - 1] = 'X'\n",
    "else :\n",
    "    choices[choice - 1] = 'O'\n",
    "\n",
    "playerOneTurn = not playerOneTurn\n",
    "\n",
    "for x in range (0, 3) :\n",
    "    y = x * 3\n",
    "    if (choices[y] == choices[(y + 1)] and choices[y] == choices[(y + 2)]) :\n",
    "        winner = True\n",
    "        printBoard()\n",
    "    if (choices[x] == choices[(x + 3)] and choices[x] == choices[(x + 6)]) :\n",
    "        winner = True\n",
    "        printBoard()\n",
    "\n",
    "if((choices[0] == choices[4] and choices[0] == choices[8]) or \n",
    "   (choices[2] == choices[4] and choices[4] == choices[6])) :\n",
    "    winner = True\n",
    "\n",
    "\n",
    "\n",
    "\n"
   ]
  },
  {
   "cell_type": "markdown",
   "metadata": {},
   "source": [
    "## Tic-tac-toe\n",
    "\n",
    "* A game of tic-tac-toe is played on a  square grid. Each cell is either empty (denoted by '.') or occupied by one of the two players ('X' and 'O'). X goes first and then they take turns alternatively. If X is written three times in a straight line, then X wins and the game ends. The same goes for O. If there is no empty cell left, then the game ends as a draw.\n",
    "\n",
    "- You are given the description of a game of tic-tac-toe. You have to determine the state of the game.\n",
    "\n",
    "- The states of the game are as follows:\n",
    "\n",
    "- If the game is invalid, that is, if there is no possibility of it happening, output \"Wait, what?\".\n",
    "- If X has won, then print \"X won.\" else if O has won print \"O won.\".\n",
    "- If it is a draw, then print \"It is a draw.\".\n",
    "- Otherwise, print whose turn it is, \"X's turn.\" or \"O's turn.\" accordingly.\n",
    "###### Sample Input 2\n",
    "\n",
    "- ...\n",
    "- ...\n",
    "- ...\n",
    "#### Sample Output 2\n",
    "\n",
    "- X's turn.\n",
    "* SAMPLE INPUT \n",
    "- O.X\n",
    "- .OX\n",
    "- ..X\n",
    "* SAMPLE OUTPUT \n",
    "- X won.\n"
   ]
  },
  {
   "cell_type": "code",
   "execution_count": null,
   "metadata": {},
   "outputs": [],
   "source": [
    "#\n",
    "choice=[]\n",
    "lr=[]\n",
    "s1=input()\n",
    "s2=input()\n",
    "s3=input()\n",
    "choice.append(s1)\n",
    "choice.append(s2)\n",
    "choice.append(s3)\n",
    "for i in range(len(choice)):\n",
    "   for j in choice[i]:\n",
    "       lr.append(j)\n",
    "if set(lr)=={\".\"}:\n",
    "   print(\"X's turn.\")\n",
    "else:\n",
    "   if lr[0]==lr[1] and lr[0]==lr[2]:\n",
    "       print(lr[0],\"won.\")\n",
    "       \n",
    "   if lr[0]==lr[3] and lr[0]==lr[6]:\n",
    "       print(lr[0],\"won.\")\n",
    "   if lr[0]==lr[4] and lr[0]==lr[8]:\n",
    "       print(lr[0],\"won.\")\n",
    "   if lr[6]==lr[7] and lr[6]==lr[8]:\n",
    "       print(lr[6],\"won.\")\n",
    "   if lr[2]==lr[5] and lr[2]==lr[8]:\n",
    "       print(lr[2],\"won.\")\n",
    "   if lr[3]==lr[4] and lr[3]==lr[5]:\n",
    "       print(lr[3],\"won.\")\n",
    "   if lr[2]==lr[4] and lr[2]==lr[6]:\n",
    "       print(lr[2],\"won.\")\n"
   ]
  },
  {
   "cell_type": "code",
   "execution_count": 9,
   "metadata": {},
   "outputs": [
    {
     "data": {
      "text/plain": [
       "114"
      ]
     },
     "execution_count": 9,
     "metadata": {},
     "output_type": "execute_result"
    }
   ],
   "source": [
    "ord('r')"
   ]
  },
  {
   "cell_type": "code",
   "execution_count": 18,
   "metadata": {},
   "outputs": [
    {
     "name": "stdout",
     "output_type": "stream",
     "text": [
      "1\n",
      "7\n",
      "True\n"
     ]
    }
   ],
   "source": [
    "l=[1,3,4,6,7]\n",
    "maximum=0\n",
    "for i in l:\n",
    "    if maximum<i:\n",
    "        maximum=i\n",
    "# print(maximum)\n",
    "minimum=10\n",
    "for i in l:\n",
    "    if minimum>i:\n",
    "        minimum=i\n",
    "if i in range(minimum,maximum+1):\n",
    "    print(True)\n",
    "else:\n",
    "    print(False)\n",
    "    \n"
   ]
  },
  {
   "cell_type": "code",
   "execution_count": null,
   "metadata": {},
   "outputs": [],
   "source": [
    "n=int(input())\n",
    "for i in range(n):\n",
    "    n1=list(map(int,input().split()))\n",
    "    # print(n1)\n",
    "    for j in n1:\n",
    "        # print(j, end=' ')\n",
    "        maximum=0\n",
    "    for i in n1:\n",
    "        if maximum<i:\n",
    "            maximum=i\n",
    "    # print(maximum)\n",
    "    minimum=10\n",
    "    for i in n1:\n",
    "        if minimum>i:\n",
    "            minimum=i\n",
    "    if i in range(minimum,maximum+1):\n",
    "        print(\"YES\")\n",
    "    else:\n",
    "        print(\"NO\")"
   ]
  },
  {
   "cell_type": "code",
   "execution_count": 4,
   "metadata": {},
   "outputs": [
    {
     "name": "stdout",
     "output_type": "stream",
     "text": [
      "711111"
     ]
    }
   ],
   "source": [
    "# Function to print maximum number that can be formed \n",
    "# using N segments \n",
    "def printMaxNumber(n): \n",
    "\t\n",
    "\t# If n is odd \n",
    "\tif (n % 2 == 1): \n",
    "\t\t\n",
    "\t\t# use 3 three segment to print 7 \n",
    "\t\tprint(\"7\",end=\"\"); \n",
    "\n",
    "\t\t# remaining to print 1 \n",
    "\t\tfor i in range(int((n - 3) // 2)): \n",
    "\t\t\tprint(\"1\",end=\"\"); \n",
    "\n",
    "\t# If n is even \n",
    "\telse: \n",
    "\t\t\n",
    "\t\t# print n/2 1s. \n",
    "\t\tfor i in range(n//2): \n",
    "\t\t\tprint(\"1\",end=\"\"); \n",
    "\n",
    "# Driver's Code \n",
    "n = 13; \n",
    "printMaxNumber(n); \n",
    "\n",
    "# This code contributed by Rajput-Ji \n"
   ]
  },
  {
   "cell_type": "code",
   "execution_count": 5,
   "metadata": {},
   "outputs": [
    {
     "data": {
      "text/plain": [
       "'he'"
      ]
     },
     "execution_count": 5,
     "metadata": {},
     "output_type": "execute_result"
    }
   ],
   "source": [
    "a=\"hello\"\n",
    "a[:2]"
   ]
  },
  {
   "cell_type": "code",
   "execution_count": 6,
   "metadata": {},
   "outputs": [
    {
     "name": "stdout",
     "output_type": "stream",
     "text": [
      "\\nhello\n"
     ]
    }
   ],
   "source": [
    "print(r\"\\nhello\")"
   ]
  },
  {
   "cell_type": "code",
   "execution_count": 9,
   "metadata": {},
   "outputs": [
    {
     "name": "stdout",
     "output_type": "stream",
     "text": [
      "newline\n"
     ]
    }
   ],
   "source": [
    "print('new''line')"
   ]
  },
  {
   "cell_type": "code",
   "execution_count": 10,
   "metadata": {},
   "outputs": [
    {
     "name": "stdout",
     "output_type": "stream",
     "text": [
      "10 5\n"
     ]
    }
   ],
   "source": [
    "#swap\n",
    "x=5\n",
    "y=10\n",
    "temp=x\n",
    "x=y\n",
    "y=temp\n",
    "print(x,y)"
   ]
  },
  {
   "cell_type": "code",
   "execution_count": null,
   "metadata": {},
   "outputs": [],
   "source": []
  }
 ],
 "metadata": {
  "kernelspec": {
   "display_name": "Python 3",
   "language": "python",
   "name": "python3"
  },
  "language_info": {
   "codemirror_mode": {
    "name": "ipython",
    "version": 3
   },
   "file_extension": ".py",
   "mimetype": "text/x-python",
   "name": "python",
   "nbconvert_exporter": "python",
   "pygments_lexer": "ipython3",
   "version": "3.7.3"
  }
 },
 "nbformat": 4,
 "nbformat_minor": 2
}
