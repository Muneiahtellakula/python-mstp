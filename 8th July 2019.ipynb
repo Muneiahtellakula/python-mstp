{
 "cells": [
  {
   "cell_type": "markdown",
   "metadata": {},
   "source": [
    "## Problem Set:\n",
    "\n",
    "1. Function to print all numbers divisible by 6 and not a factor of 100 in a given range(lb, ub) inclusive\n",
    "2. Function to find the average of cubes of all even numbers in a given range(lb, ub) inclusive\n",
    "3. Function to generate the list of factors for a given number\n",
    "4. Function to calculate the factorial of a given number\n",
    "5. Function to check if a given number is Prime\n",
    "6. Function to calculate the average first N Prime numbers\n",
    "7. Function to generate all Perfect numbers in a given range\n",
    "\n",
    "## Advanced Problem Set( Optional )\n",
    "\n",
    "8. Function to calculate the average of all factorials in a given range\n",
    "9. Function to generate N odd Armstrong numbers\n",
    "10. Function to generate Multiplication table for a number in a given range\n",
    "    - 10 in the range(100, 102) inclusive\n",
    "    - 10 x 100 = 1000\n",
    "    - 10 x 101 = 1010\n",
    "    - 10 x 102 = 1020\n",
    "## Problems That needs a Try\n",
    "\n",
    "* You are given a string and your task is to swap cases. In other words, convert all lowercase letters to uppercase letters and vice versa. (The String may contain special characters).\n",
    "\n",
    "* Given an integer, ’n’ , perform the following conditional actions:\n",
    "   If ‘n’  is odd, print Weird\n",
    "   If  ‘n’ is even and in the inclusive range of 2 to 5, print Not Weird\n",
    "   If  ‘n’ is even and in the inclusive range of 6 to 20 , print Weird\n",
    "   If  ‘n’ is even and greater than 20, print Not Weird\n",
    "* Given the participants ‘n’ score sheet for your University Sports Day, you are required to find the runner-up score. You are given scores. Store them in a list and find the score of the runner-up. (there can be multiple winners - if their scores match). \n"
   ]
  },
  {
   "cell_type": "code",
   "execution_count": 2,
   "metadata": {},
   "outputs": [],
   "source": []
  },
  {
   "cell_type": "code",
   "execution_count": 3,
   "metadata": {},
   "outputs": [
    {
     "name": "stdout",
     "output_type": "stream",
     "text": [
      "Hello python \n",
      "hi muni\n"
     ]
    }
   ],
   "source": [
    "print('''Hello python \n",
    "hi muni''')"
   ]
  },
  {
   "cell_type": "code",
   "execution_count": 15,
   "metadata": {},
   "outputs": [
    {
     "name": "stdout",
     "output_type": "stream",
     "text": [
      "hello 258 \n",
      "This comes to after c value \n",
      "another line "
     ]
    }
   ],
   "source": [
    "# int a,b;\n",
    "# a=21;\n",
    "# b=9;\n",
    "\n",
    "a=234\n",
    "b=24\n",
    "a+b\n",
    "c=a+b\n",
    "print('hello',c,\"\\nThis comes to after c value\",\"\\nanother line\",end=' ')"
   ]
  },
  {
   "cell_type": "code",
   "execution_count": 16,
   "metadata": {},
   "outputs": [
    {
     "name": "stdout",
     "output_type": "stream",
     "text": [
      "\"Hello this is new \" program\n"
     ]
    }
   ],
   "source": [
    "print('\"Hello this is new \" program')"
   ]
  },
  {
   "cell_type": "code",
   "execution_count": 41,
   "metadata": {},
   "outputs": [
    {
     "data": {
      "text/plain": [
       "'won leef si woh hsekoL olleH'"
      ]
     },
     "execution_count": 41,
     "metadata": {},
     "output_type": "execute_result"
    }
   ],
   "source": [
    "s=\"Hello Lokesh how is feel now\"\n",
    "s[0:5]#lower bound\n",
    "s[0:13:2]#step\n",
    "s[0::2]#Even charectors\n",
    "s[0::3]\n",
    "s1=\"muneiah\"\n",
    "s1[::-1]#Reverse order string\n",
    "\n",
    "s[-1:-6:-1]#last five digits\n",
    "s[::-1]"
   ]
  },
  {
   "cell_type": "markdown",
   "metadata": {},
   "source": [
    "## Arthametic oparators\n"
   ]
  },
  {
   "cell_type": "code",
   "execution_count": 45,
   "metadata": {},
   "outputs": [
    {
     "data": {
      "text/plain": [
       "1"
      ]
     },
     "execution_count": 45,
     "metadata": {},
     "output_type": "execute_result"
    }
   ],
   "source": [
    "a=10\n",
    "b=7\n",
    "a/b\n",
    "a/b\n"
   ]
  },
  {
   "cell_type": "code",
   "execution_count": 52,
   "metadata": {},
   "outputs": [
    {
     "name": "stdout",
     "output_type": "stream",
     "text": [
      "2\n",
      "1\n"
     ]
    }
   ],
   "source": [
    "import math as m\n",
    "\n",
    "print(m.ceil(a/b))\n",
    "print(m.floor(a/b))"
   ]
  },
  {
   "cell_type": "code",
   "execution_count": 59,
   "metadata": {},
   "outputs": [
    {
     "name": "stdout",
     "output_type": "stream",
     "text": [
      "zero\n"
     ]
    }
   ],
   "source": [
    "#Branching / Condition Control Structre\n",
    "x=0\n",
    "if x>0:\n",
    "    print(\"Positive\")\n",
    "elif x< 0:\n",
    "    print(\"negitive\")\n",
    "else:\n",
    "    print(\"zero\")\n",
    "    "
   ]
  },
  {
   "cell_type": "markdown",
   "metadata": {},
   "source": [
    "## Loop Control Structre\n"
   ]
  },
  {
   "cell_type": "code",
   "execution_count": 1,
   "metadata": {},
   "outputs": [
    {
     "name": "stdout",
     "output_type": "stream",
     "text": [
      "1\n",
      "2\n",
      "3\n",
      "4\n",
      "5\n",
      "6\n",
      "7\n",
      "8\n",
      "9\n",
      "10\n"
     ]
    }
   ],
   "source": [
    "i=1\n",
    "while i<=10:\n",
    "    print(i)\n",
    "    i=i+1"
   ]
  },
  {
   "cell_type": "code",
   "execution_count": 6,
   "metadata": {},
   "outputs": [
    {
     "data": {
      "text/plain": [
       "6"
      ]
     },
     "execution_count": 6,
     "metadata": {},
     "output_type": "execute_result"
    }
   ],
   "source": [
    "s=\"Python\"\n",
    "l=len(s)\n",
    "l"
   ]
  },
  {
   "cell_type": "code",
   "execution_count": 7,
   "metadata": {},
   "outputs": [
    {
     "name": "stdout",
     "output_type": "stream",
     "text": [
      "P\n",
      "y\n",
      "t\n",
      "h\n",
      "o\n",
      "n\n"
     ]
    }
   ],
   "source": [
    "i=0\n",
    "while i<l:\n",
    "    print(s[i])\n",
    "    i=i+1"
   ]
  },
  {
   "cell_type": "code",
   "execution_count": 9,
   "metadata": {},
   "outputs": [
    {
     "name": "stdout",
     "output_type": "stream",
     "text": [
      "1\n",
      "2\n",
      "3\n",
      "4\n",
      "5\n",
      "6\n",
      "7\n",
      "8\n",
      "9\n",
      "10\n"
     ]
    }
   ],
   "source": [
    "for i in range(1,11):\n",
    "    print(i)"
   ]
  },
  {
   "cell_type": "code",
   "execution_count": 14,
   "metadata": {},
   "outputs": [
    {
     "name": "stdout",
     "output_type": "stream",
     "text": [
      "P\n",
      "y\n",
      "t\n",
      "h\n",
      "o\n",
      "n\n"
     ]
    }
   ],
   "source": [
    "# for i in range(0,len(s):\n",
    "#     print(s[i])\n",
    "\n",
    "               \n",
    "for i in s:\n",
    "    print(i)"
   ]
  },
  {
   "cell_type": "code",
   "execution_count": 15,
   "metadata": {},
   "outputs": [
    {
     "data": {
      "text/plain": [
       "['P', 'h', 'n', 'o', 't', 'y']"
      ]
     },
     "execution_count": 15,
     "metadata": {},
     "output_type": "execute_result"
    }
   ],
   "source": [
    "sorted(s)#sorted in dictionary order"
   ]
  },
  {
   "cell_type": "markdown",
   "metadata": {},
   "source": [
    "## List"
   ]
  },
  {
   "cell_type": "code",
   "execution_count": 26,
   "metadata": {},
   "outputs": [
    {
     "name": "stdout",
     "output_type": "stream",
     "text": [
      "1\n",
      "200\n",
      "6 12 18 24 30 36 42 48 54 60 66 72 78 84 90 96 102 108 114 120 126 132 138 144 150 156 162 168 174 180 186 192 198 "
     ]
    }
   ],
   "source": [
    "# Function to print all numbers divisible by 6 and not a factor of 100 in a given range(lb, ub) inclusive\n",
    "lb=int(input())\n",
    "ub=int(input())\n",
    "def allDivi(lb,ub):\n",
    "    for i in range(lb,ub+1):\n",
    "        if (i%6==0 and i%100!=0):\n",
    "            print(i,end=\" \")\n",
    "allDivi(lb,ub)         \n",
    "   \n",
    "    "
   ]
  },
  {
   "cell_type": "code",
   "execution_count": 53,
   "metadata": {},
   "outputs": [
    {
     "name": "stdout",
     "output_type": "stream",
     "text": [
      "1\n",
      "100\n",
      "The average of cubes of all even numbers in a given range :  260100\n"
     ]
    }
   ],
   "source": [
    "#Function to find the average of cubes of all even numbers in a given range(lb, ub) inclusive\n",
    "lb=int(input())\n",
    "ub=int(input())\n",
    "\n",
    "def avgOfAllCubeOfAllEvenNumbers(lb,ub):\n",
    "    s=0\n",
    "    c=0\n",
    "    for i in range(lb,ub+1):\n",
    "        if i%2==0:\n",
    "            c=c+1\n",
    "            s=s+i**3\n",
    "    print(\"The average of cubes of all even numbers in a given range : \",s//c)\n",
    "                      \n",
    "avgOfAllCubeOfAllEvenNumbers(lb,ub)\n",
    "\n",
    "\n",
    "            "
   ]
  },
  {
   "cell_type": "code",
   "execution_count": 60,
   "metadata": {},
   "outputs": [
    {
     "name": "stdout",
     "output_type": "stream",
     "text": [
      "10\n",
      "1\n",
      "2\n",
      "5\n",
      "10\n"
     ]
    }
   ],
   "source": [
    "#Function to generate the list of factors for a given number\n",
    "\n",
    "n=int(input())\n",
    "def generateFactorsList(n):\n",
    "    for i in range(1,n+1):\n",
    "        if n%i==0:\n",
    "            print(i)\n",
    "\n",
    "generateFactorsList(n)"
   ]
  },
  {
   "cell_type": "code",
   "execution_count": 67,
   "metadata": {},
   "outputs": [
    {
     "name": "stdout",
     "output_type": "stream",
     "text": [
      "1\n",
      "2\n",
      "5\n",
      "10\n"
     ]
    }
   ],
   "source": [
    "#Function to calculate the factorial of a given number\n",
    "gn=generateFactorsList(n)\n",
    "gn"
   ]
  },
  {
   "cell_type": "code",
   "execution_count": 85,
   "metadata": {},
   "outputs": [
    {
     "name": "stdout",
     "output_type": "stream",
     "text": [
      "10\n",
      "1\n",
      "2\n",
      "5\n",
      "10\n",
      "the list of factors for a given number count is :  4\n"
     ]
    }
   ],
   "source": [
    "n=int(input())\n",
    "\n",
    "def generateFactorsList(n):\n",
    "    count=0\n",
    "    for i in range(1,n+1):\n",
    "        if n%i==0:\n",
    "            count=count+1\n",
    "            print(i)\n",
    "    print(\"the list of factors for a given number count is : \",count)\n",
    "            \n",
    "\n",
    "generateFactorsList(n)"
   ]
  },
  {
   "cell_type": "code",
   "execution_count": 18,
   "metadata": {},
   "outputs": [
    {
     "name": "stdout",
     "output_type": "stream",
     "text": [
      "5\n",
      "5 is prime\n",
      "5 is prime\n",
      "5 is prime\n",
      "5 not a prime\n"
     ]
    }
   ],
   "source": [
    "#5. Function to check if a given number is Prime\n",
    "n=int(input())\n",
    "def isPrime(n):\n",
    "    if n>1:\n",
    "        for i in range(2,n+1):\n",
    "            if (n%i)==0:\n",
    "                print(n,\"not a prime\")\n",
    "            else:\n",
    "                print(n,\"is prime\")\n",
    "               \n",
    "isPrime(n)\n",
    "                \n",
    "    "
   ]
  },
  {
   "cell_type": "code",
   "execution_count": 14,
   "metadata": {},
   "outputs": [
    {
     "name": "stdout",
     "output_type": "stream",
     "text": [
      "3\n",
      "3 is a prime number\n"
     ]
    }
   ],
   "source": [
    "num =int(input())\n",
    "  \n",
    "# If given number is greater than 1 \n",
    "if num > 1: \n",
    "      \n",
    "   # Iterate from 2 to n / 2  \n",
    "   for i in range(2, num//2): \n",
    "         \n",
    "       # If num is divisible by any number between  \n",
    "       # 2 and n / 2, it is not prime  \n",
    "       if (num % i) == 0: \n",
    "           print(num, \"is not a prime number\") \n",
    "           break\n",
    "   else: \n",
    "       print(num, \"is a prime number\") \n",
    "  \n",
    "else: \n",
    "   print(num, \"is not a prime number\") "
   ]
  },
  {
   "cell_type": "code",
   "execution_count": 27,
   "metadata": {},
   "outputs": [
    {
     "name": "stdout",
     "output_type": "stream",
     "text": [
      "120\n"
     ]
    }
   ],
   "source": [
    "#8. Function to calculate the average of all factorials in a given range\n",
    "import math \n",
    "\n",
    "print(math.factorial(5))#if have one number ex.5-->5*4*3*1=120\n"
   ]
  },
  {
   "cell_type": "code",
   "execution_count": 34,
   "metadata": {},
   "outputs": [
    {
     "name": "stdout",
     "output_type": "stream",
     "text": [
      "1\n",
      "5\n",
      "1 1 1\n",
      "2 3 2\n",
      "6 9 3\n",
      "24 33 4\n",
      "120 153 5\n",
      "avg: 30.6\n"
     ]
    }
   ],
   "source": [
    "#8. Function to calculate the average of all factorials in a given range\n",
    "#f =f*i\n",
    "#sum=sum+fact\n",
    "#count=count+1\n",
    "#print(\"avg\"sum/count)\n",
    "lb=int(input())\n",
    "ub=int(input())\n",
    "def isFactorialInRange(lb,ub):\n",
    "    sums=0\n",
    "    fact=1\n",
    "    count=0\n",
    "    for i in range(lb,ub+1):\n",
    "        fact=fact*i\n",
    "        sums=sums+fact\n",
    "        count =count+1\n",
    "        print(fact,sums,count)\n",
    "    print(\"avg:\",sums/count)\n",
    "isFactorialInRange(lb,ub)\n",
    "        \n",
    "\n",
    "\n",
    "\n"
   ]
  },
  {
   "cell_type": "code",
   "execution_count": 36,
   "metadata": {},
   "outputs": [
    {
     "name": "stdout",
     "output_type": "stream",
     "text": [
      "Enter a number: 435\n",
      "435 is not an Armstrong number\n"
     ]
    }
   ],
   "source": [
    "# 9. Function to generate N odd Armstrong numbers\n",
    "num = int(input(\"Enter a number: \"))\n",
    "# initialize sum\n",
    "sum = 0\n",
    "# find the sum of the cube of each digit\n",
    "temp = num\n",
    "while temp > 0:\n",
    "   digit = temp % 10\n",
    "   sum += digit ** 3\n",
    "   temp //= 10\n",
    "# display the result\n",
    "if num == sum:\n",
    "   print(num,\"is an Armstrong number\")#153\n",
    "else:\n",
    "   print(num,\"is not an Armstrong number\")"
   ]
  },
  {
   "cell_type": "code",
   "execution_count": 7,
   "metadata": {},
   "outputs": [
    {
     "name": "stdout",
     "output_type": "stream",
     "text": [
      "2 x 1 = 2\n",
      "2 x 2 = 4\n",
      "2 x 3 = 6\n",
      "2 x 4 = 8\n",
      "2 x 5 = 10\n",
      "2 x 6 = 12\n",
      "2 x 7 = 14\n",
      "2 x 8 = 16\n",
      "2 x 9 = 18\n",
      "2 x 10 = 20\n"
     ]
    }
   ],
   "source": [
    "# 10. Function to generate Multiplication table for a number in a given range\n",
    "#     - 10 in the range(100, 102) inclusive\n",
    "#     - 10 x 100 = 1000\n",
    "#     - 10 x 101 = 1010\n",
    "#     - 10 x 102 = 1020\n",
    "# n = int(input())\n",
    "\n",
    "# n2=int(input())\n",
    "def multiplicationTable(n,lb,ub):\n",
    "    for i in range(lb,ub+1): print(n,\"x\",i,\"=\",n*i)\n",
    "multiplicationTable(2,1,10)\n",
    "        \n",
    "\n",
    "    "
   ]
  },
  {
   "cell_type": "code",
   "execution_count": 9,
   "metadata": {},
   "outputs": [
    {
     "name": "stdout",
     "output_type": "stream",
     "text": [
      "bHĀRAT mĀTĀ (hINDI, FROM sANSKRIT bHĀRATĀMBĀ भारताम्बा; अम्बा AMBĀ MEANS 'MOTHER', ALSO KNOWN AS mOTHER iNDIA IN eNGLISH) IS THE NATIONAL PERSONIFICATION OF iNDIA AS A MOTHER GODDESS. sHE IS USUALLY DEPICTED AS A WOMAN CLAD IN A SAFFRON SARI HOLDING THE iNDIAN NATIONAL FLAG, AND SOMETIMES ACCOMPANIED BY A LION.\n"
     ]
    }
   ],
   "source": [
    "#* You are given a string and your task is to swap cases. In other words, convert all lowercase letters to uppercase letters and vice versa. (The String may contain special characters).\n",
    "def stringCase(s):\n",
    "    print(s.swapcase())\n",
    "s=\"Bhārat Mātā (Hindi, from Sanskrit Bhāratāmbā भारताम्बा; अम्बा ambā means 'mother', also known as Mother India in English) is the national personification of India as a mother goddess. She is usually depicted as a woman clad in a saffron sari holding the Indian national flag, and sometimes accompanied by a lion.\"\n",
    "stringCase(s)"
   ]
  },
  {
   "cell_type": "code",
   "execution_count": 12,
   "metadata": {},
   "outputs": [
    {
     "name": "stdout",
     "output_type": "stream",
     "text": [
      "Weird\n"
     ]
    }
   ],
   "source": [
    "#* Given an integer, ’n’ , perform the following conditional actions:\n",
    "  # If ‘n’  is odd, print Weird\n",
    " # If  ‘n’ is even and in the inclusive range of 2 to 5, print Not Weird\n",
    " #  If  ‘n’ is even and in the inclusive range of 6 to 20 , print Weird\n",
    "#If  ‘n’ is even and greater than 20, print Not Weird\n",
    "n=8\n",
    "if n%2==0:\n",
    "    if n>=2 and n<=5:\n",
    "        print('Not Weird')\n",
    "    elif n>=6 and n<=20:\n",
    "        print(\"Weird\")\n",
    "elif n%2!=0 and n>20:\n",
    "    print(\"Weird\")\n",
    "    "
   ]
  },
  {
   "cell_type": "code",
   "execution_count": 40,
   "metadata": {},
   "outputs": [
    {
     "name": "stdout",
     "output_type": "stream",
     "text": [
      "1\n"
     ]
    },
    {
     "data": {
      "text/plain": [
       "False"
      ]
     },
     "execution_count": 40,
     "metadata": {},
     "output_type": "execute_result"
    }
   ],
   "source": [
    "\n",
    "#Function to generate all Perfect numbers in a given ranger\n",
    "n=int(input())\n",
    "def isperfectNumber(n):\n",
    "    count=1\n",
    "    s=0\n",
    "    for i in range(1,n):\n",
    "\n",
    "        if n%i==0:\n",
    "            s=s+i\n",
    "            count=count+1\n",
    "            print(i)\n",
    "    if s==n:\n",
    "        #print(n,\"is a perfect number\")\n",
    "        return True\n",
    "    else:\n",
    "#         print(n,\"is not a perfect number\")\n",
    "        return False\n",
    "    print(\"The sum of n is : \",s)\n",
    "isperfectNumber(n)\n",
    "\n",
    "        \n",
    "        \n",
    "        "
   ]
  },
  {
   "cell_type": "markdown",
   "metadata": {},
   "source": [
    "###### #Function to generate all Perfect numbers in a given ranger\n",
    "lb=int(input())\n",
    "ub=int(input())\n",
    "for i in range(lb,ub+1):\n",
    "    if isperfectNumber(i):\n",
    "        print(i)\n",
    "        \n",
    "        "
   ]
  },
  {
   "cell_type": "code",
   "execution_count": null,
   "metadata": {},
   "outputs": [],
   "source": []
  }
 ],
 "metadata": {
  "kernelspec": {
   "display_name": "Python 3",
   "language": "python",
   "name": "python3"
  },
  "language_info": {
   "codemirror_mode": {
    "name": "ipython",
    "version": 3
   },
   "file_extension": ".py",
   "mimetype": "text/x-python",
   "name": "python",
   "nbconvert_exporter": "python",
   "pygments_lexer": "ipython3",
   "version": "3.7.3"
  }
 },
 "nbformat": 4,
 "nbformat_minor": 2
}
