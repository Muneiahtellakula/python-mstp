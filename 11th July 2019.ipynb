{
 "cells": [
  {
   "cell_type": "code",
   "execution_count": 3,
   "metadata": {},
   "outputs": [
    {
     "name": "stdout",
     "output_type": "stream",
     "text": [
      "1\n",
      "-2 -4 6\n",
      "0\n"
     ]
    }
   ],
   "source": [
    "n =int(input())\n",
    "for i in range(n):\n",
    "    s=0\n",
    "    l=input().split()\n",
    "    for j in l:\n",
    "        s+=(int(j)*-1)\n",
    "    print(s)"
   ]
  },
  {
   "cell_type": "code",
   "execution_count": 43,
   "metadata": {},
   "outputs": [
    {
     "name": "stdout",
     "output_type": "stream",
     "text": [
      "2\n",
      "1234567890\n",
      "True\n",
      "12345560\n",
      "False\n"
     ]
    }
   ],
   "source": [
    "#### Pandigit\n",
    "n=int(input())\n",
    "for i in range(n):\n",
    "    num=input()\n",
    "    l=[]\n",
    "    for j in num:\n",
    "        k=int(j)\n",
    "        if k not in l:\n",
    "            l.append(k)\n",
    "    if len(l)==10:\n",
    "        print(True)\n",
    "    else:\n",
    "        print(False)\n",
    "        "
   ]
  },
  {
   "cell_type": "code",
   "execution_count": 4,
   "metadata": {},
   "outputs": [
    {
     "name": "stdout",
     "output_type": "stream",
     "text": [
      "2\n",
      "1234567890\n",
      "True\n",
      "1234565765543\n",
      "False\n"
     ]
    }
   ],
   "source": [
    "n=int(input())\n",
    "for i in range(n):\n",
    "    num=input()\n",
    "    num=set(num)\n",
    "    if(len(num)== 10):\n",
    "        print(True)\n",
    "    else:\n",
    "        print(False)\n",
    "        "
   ]
  },
  {
   "cell_type": "code",
   "execution_count": 6,
   "metadata": {},
   "outputs": [
    {
     "name": "stdout",
     "output_type": "stream",
     "text": [
      "2\n",
      "Hi \n",
      "Ij \n",
      "hellooo\n",
      "ifmmppp\n"
     ]
    }
   ],
   "source": [
    "n=int(input())\n",
    "for i in range(n):\n",
    "    s=input()\n",
    "    line=\"\"\n",
    "    for j in s:\n",
    "        if (ord(j)< ord('z') and ord(j)>=ord('a'))or (ord(j)<ord('Z') and(ord(j)>=ord('A')) ):\n",
    "            line+=chr(ord(j)+1)\n",
    "        else:\n",
    "            line+=j\n",
    "    print(line)\n",
    "        "
   ]
  },
  {
   "cell_type": "markdown",
   "metadata": {},
   "source": [
    "# Sets"
   ]
  },
  {
   "cell_type": "code",
   "execution_count": 10,
   "metadata": {},
   "outputs": [
    {
     "name": "stdout",
     "output_type": "stream",
     "text": [
      "{40, 50, 20, 60, 30}\n"
     ]
    }
   ],
   "source": [
    "l={1,2,3,4,5,6,7,8,9,1,2,3,4}\n",
    "m={20,30,40,50,60,1,2,3,4,}\n",
    "print(m.difference(l))"
   ]
  },
  {
   "cell_type": "code",
   "execution_count": null,
   "metadata": {},
   "outputs": [],
   "source": [
    "l.difference_update(m)\n",
    "l"
   ]
  },
  {
   "cell_type": "code",
   "execution_count": 28,
   "metadata": {},
   "outputs": [
    {
     "data": {
      "text/plain": [
       "['__and__',\n",
       " '__class__',\n",
       " '__contains__',\n",
       " '__delattr__',\n",
       " '__dir__',\n",
       " '__doc__',\n",
       " '__eq__',\n",
       " '__format__',\n",
       " '__ge__',\n",
       " '__getattribute__',\n",
       " '__gt__',\n",
       " '__hash__',\n",
       " '__iand__',\n",
       " '__init__',\n",
       " '__init_subclass__',\n",
       " '__ior__',\n",
       " '__isub__',\n",
       " '__iter__',\n",
       " '__ixor__',\n",
       " '__le__',\n",
       " '__len__',\n",
       " '__lt__',\n",
       " '__ne__',\n",
       " '__new__',\n",
       " '__or__',\n",
       " '__rand__',\n",
       " '__reduce__',\n",
       " '__reduce_ex__',\n",
       " '__repr__',\n",
       " '__ror__',\n",
       " '__rsub__',\n",
       " '__rxor__',\n",
       " '__setattr__',\n",
       " '__sizeof__',\n",
       " '__str__',\n",
       " '__sub__',\n",
       " '__subclasshook__',\n",
       " '__xor__',\n",
       " 'add',\n",
       " 'clear',\n",
       " 'copy',\n",
       " 'difference',\n",
       " 'difference_update',\n",
       " 'discard',\n",
       " 'intersection',\n",
       " 'intersection_update',\n",
       " 'isdisjoint',\n",
       " 'issubset',\n",
       " 'issuperset',\n",
       " 'pop',\n",
       " 'remove',\n",
       " 'symmetric_difference',\n",
       " 'symmetric_difference_update',\n",
       " 'union',\n",
       " 'update']"
      ]
     },
     "execution_count": 28,
     "metadata": {},
     "output_type": "execute_result"
    }
   ],
   "source": [
    "dir(set)"
   ]
  },
  {
   "cell_type": "markdown",
   "metadata": {},
   "source": [
    "# l.discard(5)\n",
    "l"
   ]
  },
  {
   "cell_type": "code",
   "execution_count": 16,
   "metadata": {},
   "outputs": [
    {
     "data": {
      "text/plain": [
       "{1, 2, 3, 4}"
      ]
     },
     "execution_count": 16,
     "metadata": {},
     "output_type": "execute_result"
    }
   ],
   "source": [
    "l={1,2,3,4,5,6,7,8,9}\n",
    "l.intersection(m)"
   ]
  },
  {
   "cell_type": "code",
   "execution_count": 17,
   "metadata": {},
   "outputs": [
    {
     "data": {
      "text/plain": [
       "{1, 2, 3, 4, 5, 6, 7, 8, 9, 20, 30, 40, 50, 60}"
      ]
     },
     "execution_count": 17,
     "metadata": {},
     "output_type": "execute_result"
    }
   ],
   "source": [
    "l.union(m)"
   ]
  },
  {
   "cell_type": "code",
   "execution_count": 20,
   "metadata": {},
   "outputs": [
    {
     "data": {
      "text/plain": [
       "{1, 2, 3, 4, 5, 6, 7, 8, 9, 20, 30, 40, 50, 60, 70}"
      ]
     },
     "execution_count": 20,
     "metadata": {},
     "output_type": "execute_result"
    }
   ],
   "source": [
    "l.add(70)\n",
    "l.union(m)"
   ]
  },
  {
   "cell_type": "code",
   "execution_count": 21,
   "metadata": {},
   "outputs": [
    {
     "data": {
      "text/plain": [
       "{'Apple', 'Biscut', 'Wool', 'Zebra'}"
      ]
     },
     "execution_count": 21,
     "metadata": {},
     "output_type": "execute_result"
    }
   ],
   "source": [
    "a={'Zebra','Wool','Apple','Biscut'}\n",
    "a"
   ]
  },
  {
   "cell_type": "code",
   "execution_count": 27,
   "metadata": {},
   "outputs": [
    {
     "data": {
      "text/plain": [
       "{1, 2}"
      ]
     },
     "execution_count": 27,
     "metadata": {},
     "output_type": "execute_result"
    }
   ],
   "source": [
    "l"
   ]
  },
  {
   "cell_type": "code",
   "execution_count": 25,
   "metadata": {},
   "outputs": [
    {
     "data": {
      "text/plain": [
       "{1, 2}"
      ]
     },
     "execution_count": 25,
     "metadata": {},
     "output_type": "execute_result"
    }
   ],
   "source": [
    "l1={1,2,3,4}\n",
    "m={1,2,20,30}\n",
    "l1.intersection_update(m)\n",
    "l"
   ]
  },
  {
   "cell_type": "code",
   "execution_count": 29,
   "metadata": {},
   "outputs": [
    {
     "data": {
      "text/plain": [
       "False"
      ]
     },
     "execution_count": 29,
     "metadata": {},
     "output_type": "execute_result"
    }
   ],
   "source": [
    "l1.isdisjoint(m)#same elements in the other list i.e., return false"
   ]
  },
  {
   "cell_type": "code",
   "execution_count": 30,
   "metadata": {},
   "outputs": [
    {
     "data": {
      "text/plain": [
       "True"
      ]
     },
     "execution_count": 30,
     "metadata": {},
     "output_type": "execute_result"
    }
   ],
   "source": [
    "l.issubset(m)#some mathcing elemnts"
   ]
  },
  {
   "cell_type": "code",
   "execution_count": 31,
   "metadata": {},
   "outputs": [
    {
     "data": {
      "text/plain": [
       "{2}"
      ]
     },
     "execution_count": 31,
     "metadata": {},
     "output_type": "execute_result"
    }
   ],
   "source": [
    "l.pop()#first element can remove\n",
    "l"
   ]
  },
  {
   "cell_type": "code",
   "execution_count": 38,
   "metadata": {},
   "outputs": [
    {
     "name": "stdout",
     "output_type": "stream",
     "text": [
      "{1, 2, 3, 4, 7, 8, 9, 10, 11}\n",
      "{5, 6, 7, 8, 9, 10, 11}\n",
      "{1, 2, 3, 4, 5, 6}\n"
     ]
    }
   ],
   "source": [
    "l={1,2,3,4,5,6}\n",
    "#l.remove(3)\n",
    "m={5,6,7,8,9,10,11}\n",
    "print(l.symmetric_difference(m))\n",
    "print(m)\n",
    "print(l)\n",
    "\n"
   ]
  },
  {
   "cell_type": "code",
   "execution_count": 39,
   "metadata": {},
   "outputs": [
    {
     "data": {
      "text/plain": [
       "{1, 2, 3, 4, 5, 6, 7, 8, 9, 10, 11}"
      ]
     },
     "execution_count": 39,
     "metadata": {},
     "output_type": "execute_result"
    }
   ],
   "source": [
    "l.update(m)#You can pass a set() values to another set using this fuction \n",
    "l"
   ]
  },
  {
   "cell_type": "code",
   "execution_count": 40,
   "metadata": {},
   "outputs": [
    {
     "data": {
      "text/plain": [
       "{'a', 'is ', 'man', 'muni'}"
      ]
     },
     "execution_count": 40,
     "metadata": {},
     "output_type": "execute_result"
    }
   ],
   "source": [
    "l=[\"muni\",'is ','a','man']#list into a sets converstion\n",
    "set(l)"
   ]
  },
  {
   "cell_type": "code",
   "execution_count": 42,
   "metadata": {},
   "outputs": [
    {
     "data": {
      "text/plain": [
       "{'a', 'is ', 'man', 'muni'}"
      ]
     },
     "execution_count": 42,
     "metadata": {},
     "output_type": "execute_result"
    }
   ],
   "source": [
    "l=(\"muni\",'is ','a','man')#tuples into a sets converstion\n",
    "set(l)"
   ]
  },
  {
   "cell_type": "code",
   "execution_count": 21,
   "metadata": {},
   "outputs": [
    {
     "name": "stdout",
     "output_type": "stream",
     "text": [
      "1 ) 65 --> A 2 ) 66 --> B 3 ) 67 --> C 4 ) 68 --> D 5 ) 69 --> E 6 ) 70 --> F 7 ) 71 --> G 8 ) 72 --> H 9 ) 73 --> I 10 ) 74 --> J 11 ) 75 --> K 12 ) 76 --> L 13 ) 77 --> M 14 ) 78 --> N 15 ) 79 --> O 16 ) 80 --> P 17 ) 81 --> Q 18 ) 82 --> R 19 ) 83 --> S 20 ) 84 --> T 21 ) 85 --> U 22 ) 86 --> V 23 ) 87 --> W 24 ) 88 --> X 25 ) 89 --> Y 26 ) 90 --> Z "
     ]
    }
   ],
   "source": [
    "r=0\n",
    "for i in range(65,91):\n",
    "    r=r+1\n",
    "    print(r,\")\",ord(chr(i)),\"-->\",chr(i),end=' ')#captical \n",
    "   "
   ]
  },
  {
   "cell_type": "code",
   "execution_count": 26,
   "metadata": {},
   "outputs": [
    {
     "name": "stdout",
     "output_type": "stream",
     "text": [
      "1 --> a 2 --> b 3 --> c 4 --> d 5 --> e 6 --> f 7 --> g 8 --> h 9 --> i 10 --> j 11 --> k 12 --> l 13 --> m 14 --> n 15 --> o 16 --> p 17 --> q 18 --> r 19 --> s 20 --> t 21 --> u 22 --> v 23 --> w 24 --> x 25 --> y 26 --> z "
     ]
    }
   ],
   "source": [
    "for i in range(97,123):\n",
    "    print(ord(chr(i))-96,\"-->\",chr(i),end=' ')#small\n",
    "   "
   ]
  },
  {
   "cell_type": "code",
   "execution_count": 30,
   "metadata": {},
   "outputs": [
    {
     "name": "stdout",
     "output_type": "stream",
     "text": [
      "0123456789\n",
      "False\n"
     ]
    }
   ],
   "source": [
    "import re\n",
    "\n",
    "pattern='^(0123456789)&'\n",
    "n=input()\n",
    "n=sorted(set(n))\n",
    "n=\"\".join(n)\n",
    "if re.match(pattern,n):\n",
    "    print(\"True\")\n",
    "else:\n",
    "    print(\"False\")"
   ]
  },
  {
   "cell_type": "code",
   "execution_count": 37,
   "metadata": {},
   "outputs": [
    {
     "name": "stdout",
     "output_type": "stream",
     "text": [
      "muni.apssdc@gmail.com\n",
      "True\n"
     ]
    }
   ],
   "source": [
    "import re\n",
    "\n",
    "n1=input()\n",
    "def emailValid(n1):\n",
    "    patternemail = \"^[0-9a-z][0-9a-z_.]{4,13}[0-9a-z][@][a-z0-9]{3,18}[.][a-z]{2,4}$\"\n",
    "    if re.match(patternemail,n1):\n",
    "        print(\"True\")\n",
    "    else:\n",
    "        print(\"Try agin\")\n",
    "emailValid(n1)    "
   ]
  },
  {
   "cell_type": "code",
   "execution_count": 51,
   "metadata": {},
   "outputs": [
    {
     "name": "stdout",
     "output_type": "stream",
     "text": [
      "9849161938\n",
      "True\n"
     ]
    }
   ],
   "source": [
    "import re\n",
    "\n",
    "n1=input()\n",
    "def mobileval(n1):\n",
    "    patternemail = \"^[6-9]{1}[0-9]{9}$|^[0][6-9]{1}[0-9]{9}$|^[+][9][1][6-9]{1}[0-9]{9}$\"\n",
    "    if re.match(patternemail,n1):\n",
    "        print(\"True\")\n",
    "    else:\n",
    "        print(\"Try agin\")\n",
    "mobileval(n1)"
   ]
  },
  {
   "cell_type": "code",
   "execution_count": 88,
   "metadata": {},
   "outputs": [
    {
     "data": {
      "text/plain": [
       "4"
      ]
     },
     "execution_count": 88,
     "metadata": {},
     "output_type": "execute_result"
    }
   ],
   "source": [
    "#['a,','bacde','ab','bac','abcd']\n",
    "\n",
    "#['a','ab','bac','abcd','bacde']\n",
    "li=['a','bacde','ab','bac','abcd']\n",
    "z=[]\n",
    "for i in li:\n",
    "    c=len(i) \n",
    "    z.append(c)\n",
    "print(sorted(z))\n",
    "print(li)\n"
   ]
  },
  {
   "cell_type": "code",
   "execution_count": 4,
   "metadata": {},
   "outputs": [
    {
     "data": {
      "text/plain": [
       "['sai', 'muni', 'lokesh', 'ramireddy', 'rajesamma', 'tellakulamuneiah']"
      ]
     },
     "execution_count": 4,
     "metadata": {},
     "output_type": "execute_result"
    }
   ],
   "source": [
    "mylist=['muni','sai','tellakulamuneiah','ramireddy','lokesh','rajesamma']\n",
    "m2=sorted(mylist,key=len)\n",
    "m2\n",
    "# def Sorting(mylist):\n",
    "#     subl2 = sorted(mylist, key=len) \n",
    "#     return subl2 \n",
    "\n",
    "# # Driver code \n",
    "# print(Sorting(mylist)) \n",
    "    \n",
    "    \n"
   ]
  },
  {
   "cell_type": "code",
   "execution_count": 112,
   "metadata": {},
   "outputs": [
    {
     "name": "stdout",
     "output_type": "stream",
     "text": [
      "bad\n",
      "2 1 4 "
     ]
    }
   ],
   "source": [
    "s = input()\n",
    "for ch in s:\n",
    "    print(ord(ch)-96,end=\" \")"
   ]
  },
  {
   "cell_type": "code",
   "execution_count": 120,
   "metadata": {},
   "outputs": [
    {
     "name": "stdout",
     "output_type": "stream",
     "text": [
      "13\n",
      "174 21\n",
      "182 14\n",
      "175 9\n",
      "170 "
     ]
    }
   ],
   "source": [
    "a='muni'\n",
    "for i in a:\n",
    "    print(ord(i)-96)\n",
    "    print((ord(i)+65),end=' ')"
   ]
  },
  {
   "cell_type": "code",
   "execution_count": 115,
   "metadata": {},
   "outputs": [
    {
     "data": {
      "text/plain": [
       "65"
      ]
     },
     "execution_count": 115,
     "metadata": {},
     "output_type": "execute_result"
    }
   ],
   "source": [
    "ord('A')"
   ]
  },
  {
   "cell_type": "code",
   "execution_count": 116,
   "metadata": {},
   "outputs": [
    {
     "data": {
      "text/plain": [
       "97"
      ]
     },
     "execution_count": 116,
     "metadata": {},
     "output_type": "execute_result"
    }
   ],
   "source": [
    "ord('a')"
   ]
  },
  {
   "cell_type": "code",
   "execution_count": 127,
   "metadata": {},
   "outputs": [],
   "source": [
    "def isPrime(n):\n",
    "    if n<2:\n",
    "        for i in range(2,n//2+1):\n",
    "            if n%i==0:\n",
    "                return True\n",
    "        return False\n",
    "isPrime(3)"
   ]
  },
  {
   "cell_type": "code",
   "execution_count": 126,
   "metadata": {},
   "outputs": [
    {
     "name": "stdout",
     "output_type": "stream",
     "text": [
      "2000\n",
      "True\n",
      "True\n",
      "False\n",
      "False\n",
      "False\n",
      "True\n",
      "False\n",
      "False\n",
      "False\n",
      "True\n",
      "False\n",
      "False\n",
      "False\n",
      "True\n",
      "False\n",
      "False\n",
      "False\n",
      "True\n",
      "False\n",
      "False\n",
      "False\n",
      "True\n"
     ]
    }
   ],
   "source": [
    "#Function to check if a given year is a leap year\n",
    "year=int(input())\n",
    "def isLeap(year):\n",
    "    if year%400==0 or (year % 100!=0 and year %4==0):\n",
    "        print(True)\n",
    "    else:\n",
    "        print(False)\n",
    "isLeap(year)\n",
    "lb,ub=2000,2020\n",
    "ma=[i for i in range(lb,ub+1) if isLeap(i)]"
   ]
  },
  {
   "cell_type": "code",
   "execution_count": 134,
   "metadata": {},
   "outputs": [
    {
     "name": "stdout",
     "output_type": "stream",
     "text": [
      "True\n"
     ]
    }
   ],
   "source": [
    "#Function to check if a given year is a leap year\n",
    "# year=int(input())\n",
    "def isLeap(year):\n",
    "    if year%400==0 or (year % 100!=0 and year %4==0):\n",
    "        print(True)\n",
    "    else:\n",
    "        print(False)\n",
    "isLeap(2040)\n",
    "# lb,ub=2010,2020\n",
    "# m=list(filter(isLeap,range(lb,ub+1)))\n",
    "# print(m,end='')"
   ]
  },
  {
   "cell_type": "code",
   "execution_count": 172,
   "metadata": {},
   "outputs": [
    {
     "name": "stdout",
     "output_type": "stream",
     "text": [
      "1\n",
      "2\n",
      "dsz.dsf\n",
      "fuz.fuh\n"
     ]
    }
   ],
   "source": [
    "n=int(input())\n",
    "for i in range(n):\n",
    "    n1=int(input())\n",
    "    s=input()\n",
    "    line=\"\"\n",
    "    for j in s:\n",
    "        if (ord(j)< ord('z') and ord(j)>=ord('a'))or (ord(j)<ord('Z') and(ord(j)>=ord('A'))):\n",
    "            line+=chr(ord(j)+n1)\n",
    "        else:\n",
    "            line+=j\n",
    "    print(line)\n",
    "    "
   ]
  },
  {
   "cell_type": "code",
   "execution_count": 175,
   "metadata": {},
   "outputs": [
    {
     "data": {
      "text/plain": [
       "'a'"
      ]
     },
     "execution_count": 175,
     "metadata": {},
     "output_type": "execute_result"
    }
   ],
   "source": [
    "chr(97)"
   ]
  },
  {
   "cell_type": "code",
   "execution_count": 176,
   "metadata": {},
   "outputs": [
    {
     "data": {
      "text/plain": [
       "46"
      ]
     },
     "execution_count": 176,
     "metadata": {},
     "output_type": "execute_result"
    }
   ],
   "source": [
    "ord('.')"
   ]
  },
  {
   "cell_type": "code",
   "execution_count": 177,
   "metadata": {},
   "outputs": [
    {
     "data": {
      "text/plain": [
       "124"
      ]
     },
     "execution_count": 177,
     "metadata": {},
     "output_type": "execute_result"
    }
   ],
   "source": [
    "ord('z')+2"
   ]
  },
  {
   "cell_type": "code",
   "execution_count": null,
   "metadata": {},
   "outputs": [],
   "source": [
    "\n"
   ]
  }
 ],
 "metadata": {
  "kernelspec": {
   "display_name": "Python 3",
   "language": "python",
   "name": "python3"
  },
  "language_info": {
   "codemirror_mode": {
    "name": "ipython",
    "version": 3
   },
   "file_extension": ".py",
   "mimetype": "text/x-python",
   "name": "python",
   "nbconvert_exporter": "python",
   "pygments_lexer": "ipython3",
   "version": "3.7.3"
  }
 },
 "nbformat": 4,
 "nbformat_minor": 2
}
