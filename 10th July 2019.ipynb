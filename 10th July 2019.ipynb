{
 "cells": [
  {
   "cell_type": "code",
   "execution_count": null,
   "metadata": {},
   "outputs": [],
   "source": [
    "\n"
   ]
  },
  {
   "cell_type": "code",
   "execution_count": 6,
   "metadata": {},
   "outputs": [],
   "source": [
    "#File Creation and write a data \n",
    "filepath=\"datafiles/firstfile.txt\"\n",
    "with open(filepath,'w') as f:\n",
    "    f.write(\"Good Morning..! Happy Birthday \\n\")\n",
    "    f.write(\"This is my second Line \\n\")\n",
    "    f.write(\"Good Morning..! Happy Birthday \\n\")\n",
    "    f.write(\"Good Morning..! Happy Birthday \\n\")\n",
    "    f.write(\"Good Morning..! Happy Birthday \\n\")\n",
    "    f.write(\"Good Morning..! Happy Birthday \\n\")\n",
    "    "
   ]
  },
  {
   "cell_type": "code",
   "execution_count": 7,
   "metadata": {},
   "outputs": [
    {
     "name": "stdout",
     "output_type": "stream",
     "text": [
      "Good Morning..! Happy Birthday \n",
      "This is my second Line \n",
      "Good Morning..! Happy Birthday \n",
      "Good Morning..! Happy Birthday \n",
      "Good Morning..! Happy Birthday \n",
      "Good Morning..! Happy Birthday \n",
      "\n"
     ]
    }
   ],
   "source": [
    "#Read data from file \n",
    "with open(filepath,'r') as f:\n",
    "    s=f.read()\n",
    "    print(s)"
   ]
  },
  {
   "cell_type": "code",
   "execution_count": 17,
   "metadata": {},
   "outputs": [
    {
     "name": "stdout",
     "output_type": "stream",
     "text": [
      "5\n"
     ]
    }
   ],
   "source": [
    "#Read Numbers from a file and sum them up\n",
    "with open(filepath,'r') as f:\n",
    "    #print(f.readline())#First line printed \n",
    "   # print(f.readlines())\n",
    "    s=0\n",
    "    c=0\n",
    "    for i in f:\n",
    "       # print(i)\n",
    "        s+=int(i)\n",
    "        c+=1\n",
    "    print(int(s//c))\n"
   ]
  },
  {
   "cell_type": "code",
   "execution_count": 19,
   "metadata": {},
   "outputs": [
    {
     "name": "stdout",
     "output_type": "stream",
     "text": [
      "5\n"
     ]
    }
   ],
   "source": [
    "#Count the number of lines in the file\n",
    "with open(filepath,'r') as f:\n",
    "    linescount=0\n",
    "    for i in f:\n",
    "        linescount+=1\n",
    "    print(linescount)"
   ]
  },
  {
   "cell_type": "code",
   "execution_count": 21,
   "metadata": {},
   "outputs": [
    {
     "name": "stdout",
     "output_type": "stream",
     "text": [
      "30\n"
     ]
    }
   ],
   "source": [
    "#Count the Number of words in a file\n",
    "with open(filepath,'r') as f:\n",
    "    wordcount=0\n",
    "    for i in f:\n",
    "        l=i.split(\" \")\n",
    "        wordcount+=len(l)\n",
    "    print(wordcount)\n",
    "        "
   ]
  },
  {
   "cell_type": "code",
   "execution_count": 34,
   "metadata": {},
   "outputs": [
    {
     "name": "stdout",
     "output_type": "stream",
     "text": [
      "['Good', 'Morning..!', 'Happy', 'Birthday', 'This', 'is', 'my', 'second', 'Line', 'Good', 'Morning..!', 'Happy', 'Birthday', 'Good', 'Morning..!', 'Happy', 'Birthday', 'Good', 'Morning..!', 'Happy', 'Birthday', 'Good', 'Morning..!', 'Happy', 'Birthday']\n",
      "25\n"
     ]
    }
   ],
   "source": [
    "with open(filepath,'r') as f:\n",
    "    s=f.read().split()\n",
    "    s=\" \".join(s).split(\" \")\n",
    "    print(s)\n",
    "    print(len(s))"
   ]
  },
  {
   "cell_type": "code",
   "execution_count": 35,
   "metadata": {},
   "outputs": [
    {
     "data": {
      "text/plain": [
       "'praneeth is a programmer'"
      ]
     },
     "execution_count": 35,
     "metadata": {},
     "output_type": "execute_result"
    }
   ],
   "source": [
    "l=['praneeth' ,'is','a' ,'programmer']\n",
    "s=\" \".join(l)\n",
    "s"
   ]
  },
  {
   "cell_type": "code",
   "execution_count": 42,
   "metadata": {},
   "outputs": [
    {
     "name": "stdout",
     "output_type": "stream",
     "text": [
      "['G', 'o', 'o', 'd', ' ', 'M', 'o', 'r', 'n', 'i', 'n', 'g', '.', '.', '!', ' ', 'H', 'a', 'p', 'p', 'y', ' ', 'B', 'i', 'r', 't', 'h', 'd', 'a', 'y', ' ', '\\n']\n",
      "['T', 'h', 'i', 's', ' ', 'i', 's', ' ', 'm', 'y', ' ', 's', 'e', 'c', 'o', 'n', 'd', ' ', 'L', 'i', 'n', 'e', ' ', 'G', 'o', 'o', 'd', ' ', 'M', 'o', 'r', 'n', 'i', 'n', 'g', '.', '.', '!', ' ', 'H', 'a', 'p', 'p', 'y', ' ', 'B', 'i', 'r', 't', 'h', 'd', 'a', 'y', ' ', '\\n']\n",
      "['G', 'o', 'o', 'd', ' ', 'M', 'o', 'r', 'n', 'i', 'n', 'g', '.', '.', '!', ' ', 'H', 'a', 'p', 'p', 'y', ' ', 'B', 'i', 'r', 't', 'h', 'd', 'a', 'y', ' ', '\\n']\n",
      "['G', 'o', 'o', 'd', ' ', 'M', 'o', 'r', 'n', 'i', 'n', 'g', '.', '.', '!', ' ', 'H', 'a', 'p', 'p', 'y', ' ', 'B', 'i', 'r', 't', 'h', 'd', 'a', 'y', ' ', '\\n']\n",
      "['G', 'o', 'o', 'd', ' ', 'M', 'o', 'r', 'n', 'i', 'n', 'g', '.', '.', '!', ' ', 'H', 'a', 'p', 'p', 'y', ' ', 'B', 'i', 'r', 't', 'h', 'd', 'a', 'y', ' ']\n"
     ]
    }
   ],
   "source": [
    "#All Charas at a list \n",
    "with open(filepath,'r') as f:\n",
    "    charcount=0\n",
    "    for i in f:\n",
    "        s=list(i)\n",
    "        print(s)"
   ]
  },
  {
   "cell_type": "code",
   "execution_count": 41,
   "metadata": {},
   "outputs": [
    {
     "name": "stdout",
     "output_type": "stream",
     "text": [
      "153\n"
     ]
    }
   ],
   "source": [
    "#Character Count \n",
    "with open(filepath,'r') as f:\n",
    "    charcount=0\n",
    "#     for i in f:\n",
    "#         s=list(i)\n",
    "#         print(s)\n",
    "                #     s=list(f.read())   --> for read all chars in list\n",
    "                #     s=\"\".join(s)\n",
    "                #     print(s)\n",
    "    for i in f:             #  ---> char count\n",
    "        s=i.split()\n",
    "        for j in s:\n",
    "            charcount+=len(j)\n",
    "    print(charcount)\n",
    "    "
   ]
  },
  {
   "cell_type": "code",
   "execution_count": 49,
   "metadata": {},
   "outputs": [
    {
     "data": {
      "text/plain": [
       "' muni'"
      ]
     },
     "execution_count": 49,
     "metadata": {},
     "output_type": "execute_result"
    }
   ],
   "source": [
    "d=\" muni \"\n",
    "a=d.strip()#both side spaces removed -->'muni'\n",
    "a=d.lstrip()#left side space removed -->'muni '\n",
    "a=d.rstrip()#Right side space removed -->' muni'\n",
    "a"
   ]
  },
  {
   "cell_type": "code",
   "execution_count": 58,
   "metadata": {},
   "outputs": [
    {
     "name": "stdout",
     "output_type": "stream",
     "text": [
      "331\n"
     ]
    }
   ],
   "source": [
    "with open(filepath,'r') as f:\n",
    "    charcount\n",
    "    for i in f:\n",
    "        s=i.split()\n",
    "        s=\" \".join(i).split()\n",
    "        charcount=charcount+len(s)\n",
    "    print(charcount)\n",
    "        "
   ]
  },
  {
   "cell_type": "code",
   "execution_count": 26,
   "metadata": {},
   "outputs": [
    {
     "name": "stdout",
     "output_type": "stream",
     "text": [
      "muni"
     ]
    }
   ],
   "source": [
    "j='munii'\n",
    "l=[]\n",
    "for i in j:\n",
    "    if i not in l:\n",
    "        l.append(i)\n",
    "#print(l)\n",
    "for i in l:\n",
    "    print(i,end=\"\")\n",
    "\n",
    "    \n"
   ]
  },
  {
   "cell_type": "code",
   "execution_count": 27,
   "metadata": {},
   "outputs": [
    {
     "name": "stdout",
     "output_type": "stream",
     "text": [
      "3\n",
      "muni\n",
      "loki\n",
      "sai\n",
      "['muni', 'loki', 'sai']\n"
     ]
    }
   ],
   "source": [
    "n=int(input())\n",
    "l1=[]\n",
    "for i in range(n):\n",
    "    s=input()\n",
    "    l1.append(s)\n",
    "print(l1)\n"
   ]
  },
  {
   "cell_type": "code",
   "execution_count": 16,
   "metadata": {},
   "outputs": [
    {
     "name": "stdout",
     "output_type": "stream",
     "text": [
      "2\n",
      "munibabu#$$#$%#$#muni\n",
      "lokeshbabu ^%^&%&loki\n",
      "munibabumuni lokeshbabuloki "
     ]
    }
   ],
   "source": [
    "# slist=\"hi...! Hello$ How&#% are you#\"\n",
    "n=int(input())\n",
    "l=[]\n",
    "for i in range(n):\n",
    "    s=input()\n",
    "    k=''.join(j for j in s if j.isalnum())\n",
    "    l.append(k)\n",
    "for i in l:\n",
    "    print(i,end=\" \")\n",
    "\n",
    "\n",
    "    \n",
    "#     j=''.join(i for i in slist if i.isalnum())\n"
   ]
  },
  {
   "cell_type": "code",
   "execution_count": 5,
   "metadata": {},
   "outputs": [
    {
     "name": "stdout",
     "output_type": "stream",
     "text": [
      "2\n",
      "muni inum\n",
      "YES\n",
      "loki kojl\n",
      "NO\n"
     ]
    }
   ],
   "source": [
    "s=int(input())\n",
    "for i in range(s):\n",
    "    s1=list(input().split(' '))\n",
    "    if sorted(s1[0]) == sorted(s1[1]):\n",
    "        print(\"YES\")\n",
    "    else:\n",
    "        print(\"NO\")"
   ]
  },
  {
   "cell_type": "code",
   "execution_count": null,
   "metadata": {},
   "outputs": [],
   "source": [
    "n=int(input())\n",
    "s=0\n",
    "l=[]\n",
    "while n>0:\n",
    "    a=n%10\n",
    "    l.append(a)\n",
    "    n=n//10\n",
    "v=list(l,reverse=True)\n",
    "print(v)"
   ]
  },
  {
   "cell_type": "code",
   "execution_count": 23,
   "metadata": {},
   "outputs": [
    {
     "name": "stdout",
     "output_type": "stream",
     "text": [
      "102356412345\n",
      "Illegal ISBN\n"
     ]
    }
   ],
   "source": [
    "n=int(input())\n",
    "l=[]\n",
    "while n>0:\n",
    "    a=n%10\n",
    "    l.append(a)\n",
    "    n=n//10\n",
    "\n",
    "l1=l[::-1]\n",
    "#print(l1)\n",
    "s=0\n",
    "if len(l1)==10:\n",
    "    for i in range(0,len(l1)):\n",
    "        s+=(i+1)*l1[i]\n",
    "    if s%11==0:\n",
    "        print(\"Legal ISBN\")\n",
    "    else:\n",
    "        print(\"Illegal ISBN\")\n",
    "else:\n",
    "    print(\"Illegal ISBN\")"
   ]
  },
  {
   "cell_type": "code",
   "execution_count": 27,
   "metadata": {},
   "outputs": [
    {
     "data": {
      "text/plain": [
       "3.141592653589793"
      ]
     },
     "execution_count": 27,
     "metadata": {},
     "output_type": "execute_result"
    }
   ],
   "source": [
    "import math\n",
    "\n",
    "d=math.pi\n",
    "d"
   ]
  },
  {
   "cell_type": "markdown",
   "metadata": {},
   "source": [
    "### Consider All lowercase Alphabets of the English language. Here we consider each alphabet from a to z to have a certain weight. The weight of the alphabet a is considered to be 1, b to be 2, c to be 3 and so on until z has a weight of 26. In short, the weight of the alphabet a is 1, and the weight of all other alphabets is the weight of its previous alphabet + 1.\n",
    "\n",
    "Now, you have been given a String S consisting of lowercase English characters. You need to find the summation of weight of each character in this String.\n",
    "\n",
    "For example, Consider the String aba\n",
    "\n",
    "Here, the first character a has a weight of 1, the second character b has 2 and the third character a again has a weight of 1. So the summation here is equal to : 1+2+1=4\n",
    "\n",
    "Input Format:\n",
    "\n",
    "The first and only line of input contains the String S.\n",
    "\n",
    "Output Format:\n",
    "\n",
    "Print the required answer on a single line"
   ]
  },
  {
   "cell_type": "code",
   "execution_count": 32,
   "metadata": {},
   "outputs": [
    {
     "name": "stdout",
     "output_type": "stream",
     "text": [
      "aba\n",
      "4\n"
     ]
    }
   ],
   "source": [
    "#aba--->4\n",
    "s=input()\n",
    "def sumChar(s):\n",
    "    sum=0\n",
    "    for i in range(0,len(s)):\n",
    "        if (s[i]>=chr(97)) and (s[i]<=chr(122)):\n",
    "            sum=sum+(ord(s[i])-96)\n",
    "    print(sum)\n",
    "sumChar(s)\n",
    "        "
   ]
  },
  {
   "cell_type": "code",
   "execution_count": 31,
   "metadata": {},
   "outputs": [
    {
     "data": {
      "text/plain": [
       "97"
      ]
     },
     "execution_count": 31,
     "metadata": {},
     "output_type": "execute_result"
    }
   ],
   "source": [
    "ord('a')"
   ]
  },
  {
   "cell_type": "code",
   "execution_count": 33,
   "metadata": {},
   "outputs": [
    {
     "name": "stdout",
     "output_type": "stream",
     "text": [
      "madam\n",
      "YES\n"
     ]
    },
    {
     "data": {
      "text/plain": [
       "True"
      ]
     },
     "execution_count": 33,
     "metadata": {},
     "output_type": "execute_result"
    }
   ],
   "source": [
    "s=input()\n",
    "def reverse(s): \n",
    "    return s[::-1] \n",
    "\n",
    "def isPalindrome(s): \n",
    "    rev = reverse(s) \n",
    "\n",
    "    if (s == rev): \n",
    "        return True\n",
    "    return False\n",
    "ans = isPalindrome(s) \n",
    "\n",
    "if ans == 1: \n",
    "    print(\"YES\") \n",
    "else: \n",
    "    print(\"NO\") \n",
    "\n",
    "\n",
    "# Driver code \n",
    "isPalindrome(s) \n"
   ]
  },
  {
   "cell_type": "code",
   "execution_count": null,
   "metadata": {},
   "outputs": [],
   "source": []
  }
 ],
 "metadata": {
  "kernelspec": {
   "display_name": "Python 3",
   "language": "python",
   "name": "python3"
  },
  "language_info": {
   "codemirror_mode": {
    "name": "ipython",
    "version": 3
   },
   "file_extension": ".py",
   "mimetype": "text/x-python",
   "name": "python",
   "nbconvert_exporter": "python",
   "pygments_lexer": "ipython3",
   "version": "3.7.3"
  }
 },
 "nbformat": 4,
 "nbformat_minor": 2
}
