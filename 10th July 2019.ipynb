{
 "cells": [
  {
   "cell_type": "code",
   "execution_count": null,
   "metadata": {},
   "outputs": [],
   "source": [
    "\n"
   ]
  },
  {
   "cell_type": "code",
   "execution_count": 6,
   "metadata": {},
   "outputs": [],
   "source": [
    "#File Creation and write a data \n",
    "filepath=\"datafiles/firstfile.txt\"\n",
    "with open(filepath,'w') as f:\n",
    "    f.write(\"Good Morning..! Happy Birthday \\n\")\n",
    "    f.write(\"This is my second Line \\n\")\n",
    "    f.write(\"Good Morning..! Happy Birthday \\n\")\n",
    "    f.write(\"Good Morning..! Happy Birthday \\n\")\n",
    "    f.write(\"Good Morning..! Happy Birthday \\n\")\n",
    "    f.write(\"Good Morning..! Happy Birthday \\n\")\n",
    "    "
   ]
  },
  {
   "cell_type": "code",
   "execution_count": 7,
   "metadata": {},
   "outputs": [
    {
     "name": "stdout",
     "output_type": "stream",
     "text": [
      "Good Morning..! Happy Birthday \n",
      "This is my second Line \n",
      "Good Morning..! Happy Birthday \n",
      "Good Morning..! Happy Birthday \n",
      "Good Morning..! Happy Birthday \n",
      "Good Morning..! Happy Birthday \n",
      "\n"
     ]
    }
   ],
   "source": [
    "#Read data from file \n",
    "with open(filepath,'r') as f:\n",
    "    s=f.read()\n",
    "    print(s)"
   ]
  },
  {
   "cell_type": "code",
   "execution_count": 17,
   "metadata": {},
   "outputs": [
    {
     "name": "stdout",
     "output_type": "stream",
     "text": [
      "5\n"
     ]
    }
   ],
   "source": [
    "#Read Numbers from a file and sum them up\n",
    "with open(filepath,'r') as f:\n",
    "    #print(f.readline())#First line printed \n",
    "   # print(f.readlines())\n",
    "    s=0\n",
    "    c=0\n",
    "    for i in f:\n",
    "       # print(i)\n",
    "        s+=int(i)\n",
    "        c+=1\n",
    "    print(int(s//c))\n"
   ]
  },
  {
   "cell_type": "code",
   "execution_count": 19,
   "metadata": {},
   "outputs": [
    {
     "name": "stdout",
     "output_type": "stream",
     "text": [
      "5\n"
     ]
    }
   ],
   "source": [
    "#Count the number of lines in the file\n",
    "with open(filepath,'r') as f:\n",
    "    linescount=0\n",
    "    for i in f:\n",
    "        linescount+=1\n",
    "    print(linescount)"
   ]
  },
  {
   "cell_type": "code",
   "execution_count": 21,
   "metadata": {},
   "outputs": [
    {
     "name": "stdout",
     "output_type": "stream",
     "text": [
      "30\n"
     ]
    }
   ],
   "source": [
    "#Count the Number of words in a file\n",
    "with open(filepath,'r') as f:\n",
    "    wordcount=0\n",
    "    for i in f:\n",
    "        l=i.split(\" \")\n",
    "        wordcount+=len(l)\n",
    "    print(wordcount)\n",
    "        "
   ]
  },
  {
   "cell_type": "code",
   "execution_count": 34,
   "metadata": {},
   "outputs": [
    {
     "name": "stdout",
     "output_type": "stream",
     "text": [
      "['Good', 'Morning..!', 'Happy', 'Birthday', 'This', 'is', 'my', 'second', 'Line', 'Good', 'Morning..!', 'Happy', 'Birthday', 'Good', 'Morning..!', 'Happy', 'Birthday', 'Good', 'Morning..!', 'Happy', 'Birthday', 'Good', 'Morning..!', 'Happy', 'Birthday']\n",
      "25\n"
     ]
    }
   ],
   "source": [
    "with open(filepath,'r') as f:\n",
    "    s=f.read().split()\n",
    "    s=\" \".join(s).split(\" \")\n",
    "    print(s)\n",
    "    print(len(s))"
   ]
  },
  {
   "cell_type": "code",
   "execution_count": 35,
   "metadata": {},
   "outputs": [
    {
     "data": {
      "text/plain": [
       "'praneeth is a programmer'"
      ]
     },
     "execution_count": 35,
     "metadata": {},
     "output_type": "execute_result"
    }
   ],
   "source": [
    "l=['praneeth' ,'is','a' ,'programmer']\n",
    "s=\" \".join(l)\n",
    "s"
   ]
  },
  {
   "cell_type": "code",
   "execution_count": 42,
   "metadata": {},
   "outputs": [
    {
     "name": "stdout",
     "output_type": "stream",
     "text": [
      "['G', 'o', 'o', 'd', ' ', 'M', 'o', 'r', 'n', 'i', 'n', 'g', '.', '.', '!', ' ', 'H', 'a', 'p', 'p', 'y', ' ', 'B', 'i', 'r', 't', 'h', 'd', 'a', 'y', ' ', '\\n']\n",
      "['T', 'h', 'i', 's', ' ', 'i', 's', ' ', 'm', 'y', ' ', 's', 'e', 'c', 'o', 'n', 'd', ' ', 'L', 'i', 'n', 'e', ' ', 'G', 'o', 'o', 'd', ' ', 'M', 'o', 'r', 'n', 'i', 'n', 'g', '.', '.', '!', ' ', 'H', 'a', 'p', 'p', 'y', ' ', 'B', 'i', 'r', 't', 'h', 'd', 'a', 'y', ' ', '\\n']\n",
      "['G', 'o', 'o', 'd', ' ', 'M', 'o', 'r', 'n', 'i', 'n', 'g', '.', '.', '!', ' ', 'H', 'a', 'p', 'p', 'y', ' ', 'B', 'i', 'r', 't', 'h', 'd', 'a', 'y', ' ', '\\n']\n",
      "['G', 'o', 'o', 'd', ' ', 'M', 'o', 'r', 'n', 'i', 'n', 'g', '.', '.', '!', ' ', 'H', 'a', 'p', 'p', 'y', ' ', 'B', 'i', 'r', 't', 'h', 'd', 'a', 'y', ' ', '\\n']\n",
      "['G', 'o', 'o', 'd', ' ', 'M', 'o', 'r', 'n', 'i', 'n', 'g', '.', '.', '!', ' ', 'H', 'a', 'p', 'p', 'y', ' ', 'B', 'i', 'r', 't', 'h', 'd', 'a', 'y', ' ']\n"
     ]
    }
   ],
   "source": [
    "#All Charas at a list \n",
    "with open(filepath,'r') as f:\n",
    "    charcount=0\n",
    "    for i in f:\n",
    "        s=list(i)\n",
    "        print(s)"
   ]
  },
  {
   "cell_type": "code",
   "execution_count": 41,
   "metadata": {},
   "outputs": [
    {
     "name": "stdout",
     "output_type": "stream",
     "text": [
      "153\n"
     ]
    }
   ],
   "source": [
    "#Character Count \n",
    "with open(filepath,'r') as f:\n",
    "    charcount=0\n",
    "#     for i in f:\n",
    "#         s=list(i)\n",
    "#         print(s)\n",
    "                #     s=list(f.read())   --> for read all chars in list\n",
    "                #     s=\"\".join(s)\n",
    "                #     print(s)\n",
    "    for i in f:             #  ---> char count\n",
    "        s=i.split()\n",
    "        for j in s:\n",
    "            charcount+=len(j)\n",
    "    print(charcount)\n",
    "    "
   ]
  },
  {
   "cell_type": "code",
   "execution_count": 49,
   "metadata": {},
   "outputs": [
    {
     "data": {
      "text/plain": [
       "' muni'"
      ]
     },
     "execution_count": 49,
     "metadata": {},
     "output_type": "execute_result"
    }
   ],
   "source": [
    "d=\" muni \"\n",
    "a=d.strip()#both side spaces removed -->'muni'\n",
    "a=d.lstrip()#left side space removed -->'muni '\n",
    "a=d.rstrip()#Right side space removed -->' muni'\n",
    "a"
   ]
  },
  {
   "cell_type": "code",
   "execution_count": 58,
   "metadata": {},
   "outputs": [
    {
     "name": "stdout",
     "output_type": "stream",
     "text": [
      "331\n"
     ]
    }
   ],
   "source": [
    "with open(filepath,'r') as f:\n",
    "    charcount\n",
    "    for i in f:\n",
    "        s=i.split()\n",
    "        s=\" \".join(i).split()\n",
    "        charcount=charcount+len(s)\n",
    "    print(charcount)\n",
    "        "
   ]
  },
  {
   "cell_type": "code",
   "execution_count": 26,
   "metadata": {},
   "outputs": [
    {
     "name": "stdout",
     "output_type": "stream",
     "text": [
      "muni"
     ]
    }
   ],
   "source": [
    "j='munii'\n",
    "l=[]\n",
    "for i in j:\n",
    "    if i not in l:\n",
    "        l.append(i)\n",
    "#print(l)\n",
    "for i in l:\n",
    "    print(i,end=\"\")\n",
    "\n",
    "    \n"
   ]
  },
  {
   "cell_type": "code",
   "execution_count": 27,
   "metadata": {},
   "outputs": [
    {
     "name": "stdout",
     "output_type": "stream",
     "text": [
      "3\n",
      "muni\n",
      "loki\n",
      "sai\n",
      "['muni', 'loki', 'sai']\n"
     ]
    }
   ],
   "source": [
    "n=int(input())\n",
    "l1=[]\n",
    "for i in range(n):\n",
    "    s=input()\n",
    "    l1.append(s)\n",
    "print(l1)\n"
   ]
  },
  {
   "cell_type": "code",
   "execution_count": 16,
   "metadata": {},
   "outputs": [
    {
     "name": "stdout",
     "output_type": "stream",
     "text": [
      "2\n",
      "munibabu#$$#$%#$#muni\n",
      "lokeshbabu ^%^&%&loki\n",
      "munibabumuni lokeshbabuloki "
     ]
    }
   ],
   "source": [
    "# slist=\"hi...! Hello$ How&#% are you#\"\n",
    "n=int(input())\n",
    "l=[]\n",
    "for i in range(n):\n",
    "    s=input()\n",
    "    k=''.join(j for j in s if j.isalnum())\n",
    "    l.append(k)\n",
    "for i in l:\n",
    "    print(i,end=\" \")\n",
    "\n",
    "\n",
    "    \n",
    "#     j=''.join(i for i in slist if i.isalnum())\n"
   ]
  },
  {
   "cell_type": "code",
   "execution_count": 5,
   "metadata": {},
   "outputs": [
    {
     "name": "stdout",
     "output_type": "stream",
     "text": [
      "2\n",
      "muni inum\n",
      "YES\n",
      "loki kojl\n",
      "NO\n"
     ]
    }
   ],
   "source": [
    "s=int(input())\n",
    "for i in range(s):\n",
    "    s1=list(input().split(' '))\n",
    "    if sorted(s1[0]) == sorted(s1[1]):\n",
    "        print(\"YES\")\n",
    "    else:\n",
    "        print(\"NO\")"
   ]
  },
  {
   "cell_type": "code",
   "execution_count": null,
   "metadata": {},
   "outputs": [],
   "source": [
    "n=int(input())\n",
    "s=0\n",
    "l=[]\n",
    "while n>0:\n",
    "    a=n%10\n",
    "    l.append(a)\n",
    "    n=n//10\n",
    "v=list(l,reverse=True)\n",
    "print(v)"
   ]
  },
  {
   "cell_type": "code",
   "execution_count": 23,
   "metadata": {},
   "outputs": [
    {
     "name": "stdout",
     "output_type": "stream",
     "text": [
      "102356412345\n",
      "Illegal ISBN\n"
     ]
    }
   ],
   "source": [
    "n=int(input())\n",
    "l=[]\n",
    "while n>0:\n",
    "    a=n%10\n",
    "    l.append(a)\n",
    "    n=n//10\n",
    "\n",
    "l1=l[::-1]\n",
    "#print(l1)\n",
    "s=0\n",
    "if len(l1)==10:\n",
    "    for i in range(0,len(l1)):\n",
    "        s+=(i+1)*l1[i]\n",
    "    if s%11==0:\n",
    "        print(\"Legal ISBN\")\n",
    "    else:\n",
    "        print(\"Illegal ISBN\")\n",
    "else:\n",
    "    print(\"Illegal ISBN\")"
   ]
  },
  {
   "cell_type": "code",
   "execution_count": 27,
   "metadata": {},
   "outputs": [
    {
     "data": {
      "text/plain": [
       "3.141592653589793"
      ]
     },
     "execution_count": 27,
     "metadata": {},
     "output_type": "execute_result"
    }
   ],
   "source": [
    "import math\n",
    "\n",
    "d=math.pi\n",
    "d"
   ]
  },
  {
   "cell_type": "markdown",
   "metadata": {},
   "source": [
    "### Consider All lowercase Alphabets of the English language. Here we consider each alphabet from a to z to have a certain weight. The weight of the alphabet a is considered to be 1, b to be 2, c to be 3 and so on until z has a weight of 26. In short, the weight of the alphabet a is 1, and the weight of all other alphabets is the weight of its previous alphabet + 1.\n",
    "\n",
    "Now, you have been given a String S consisting of lowercase English characters. You need to find the summation of weight of each character in this String.\n",
    "\n",
    "For example, Consider the String aba\n",
    "\n",
    "Here, the first character a has a weight of 1, the second character b has 2 and the third character a again has a weight of 1. So the summation here is equal to : 1+2+1=4\n",
    "\n",
    "Input Format:\n",
    "\n",
    "The first and only line of input contains the String S.\n",
    "\n",
    "Output Format:\n",
    "\n",
    "Print the required answer on a single line"
   ]
  },
  {
   "cell_type": "code",
   "execution_count": 32,
   "metadata": {},
   "outputs": [
    {
     "name": "stdout",
     "output_type": "stream",
     "text": [
      "aba\n",
      "4\n"
     ]
    }
   ],
   "source": [
    "#aba--->4\n",
    "s=input()\n",
    "def sumChar(s):\n",
    "    sum=0\n",
    "    for i in range(0,len(s)):\n",
    "        if (s[i]>=chr(97)) and (s[i]<=chr(122)):\n",
    "            sum=sum+(ord(s[i])-96)\n",
    "    print(sum)\n",
    "sumChar(s)\n",
    "        "
   ]
  },
  {
   "cell_type": "code",
   "execution_count": 31,
   "metadata": {},
   "outputs": [
    {
     "data": {
      "text/plain": [
       "97"
      ]
     },
     "execution_count": 31,
     "metadata": {},
     "output_type": "execute_result"
    }
   ],
   "source": [
    "ord('a')"
   ]
  },
  {
   "cell_type": "code",
   "execution_count": 33,
   "metadata": {},
   "outputs": [
    {
     "name": "stdout",
     "output_type": "stream",
     "text": [
      "madam\n",
      "YES\n"
     ]
    },
    {
     "data": {
      "text/plain": [
       "True"
      ]
     },
     "execution_count": 33,
     "metadata": {},
     "output_type": "execute_result"
    }
   ],
   "source": [
    "s=input()\n",
    "def reverse(s): \n",
    "    return s[::-1] \n",
    "\n",
    "def isPalindrome(s): \n",
    "    rev = reverse(s) \n",
    "\n",
    "    if (s == rev): \n",
    "        return True\n",
    "    return False\n",
    "ans = isPalindrome(s) \n",
    "\n",
    "if ans == 1: \n",
    "    print(\"YES\") \n",
    "else: \n",
    "    print(\"NO\") \n",
    "\n",
    "\n",
    "# Driver code \n",
    "isPalindrome(s) \n"
   ]
  },
  {
   "cell_type": "code",
   "execution_count": 1,
   "metadata": {},
   "outputs": [
    {
     "data": {
      "text/plain": [
       "'a'"
      ]
     },
     "execution_count": 1,
     "metadata": {},
     "output_type": "execute_result"
    }
   ],
   "source": [
    "s=\"muneiah\"\n",
    "s[-2]# Another way of accesing the last character"
   ]
  },
  {
   "cell_type": "code",
   "execution_count": 2,
   "metadata": {},
   "outputs": [
    {
     "data": {
      "text/plain": [
       "'mu'"
      ]
     },
     "execution_count": 2,
     "metadata": {},
     "output_type": "execute_result"
    }
   ],
   "source": [
    "s[0:2] # Accessing the first two characters in a string"
   ]
  },
  {
   "cell_type": "code",
   "execution_count": 12,
   "metadata": {},
   "outputs": [
    {
     "data": {
      "text/plain": [
       "'ah'"
      ]
     },
     "execution_count": 12,
     "metadata": {},
     "output_type": "execute_result"
    }
   ],
   "source": [
    "# Accessing the last two charcters in a string\n",
    "s[-2:]"
   ]
  },
  {
   "cell_type": "code",
   "execution_count": 13,
   "metadata": {},
   "outputs": [
    {
     "data": {
      "text/plain": [
       "'iah'"
      ]
     },
     "execution_count": 13,
     "metadata": {},
     "output_type": "execute_result"
    }
   ],
   "source": [
    "# Accessing all characters 5th character to end of string\n",
    "s[4:]"
   ]
  },
  {
   "cell_type": "code",
   "execution_count": 14,
   "metadata": {},
   "outputs": [
    {
     "data": {
      "text/plain": [
       "'uneia'"
      ]
     },
     "execution_count": 14,
     "metadata": {},
     "output_type": "execute_result"
    }
   ],
   "source": [
    "# Accessing all characters except first and last character\n",
    "s[1:-1]"
   ]
  },
  {
   "cell_type": "code",
   "execution_count": 15,
   "metadata": {},
   "outputs": [
    {
     "data": {
      "text/plain": [
       "7"
      ]
     },
     "execution_count": 15,
     "metadata": {},
     "output_type": "execute_result"
    }
   ],
   "source": [
    "#length of string\n",
    "len(s)"
   ]
  },
  {
   "cell_type": "code",
   "execution_count": 17,
   "metadata": {},
   "outputs": [
    {
     "data": {
      "text/plain": [
       "'e'"
      ]
     },
     "execution_count": 17,
     "metadata": {},
     "output_type": "execute_result"
    }
   ],
   "source": [
    "# Accessing all characters except first and last character\n",
    "s[len(s)//2]"
   ]
  },
  {
   "cell_type": "code",
   "execution_count": 21,
   "metadata": {},
   "outputs": [
    {
     "data": {
      "text/plain": [
       "'haienum'"
      ]
     },
     "execution_count": 21,
     "metadata": {},
     "output_type": "execute_result"
    }
   ],
   "source": [
    "s[-1::-1]"
   ]
  },
  {
   "cell_type": "code",
   "execution_count": 23,
   "metadata": {},
   "outputs": [
    {
     "data": {
      "text/plain": [
       "'ha'"
      ]
     },
     "execution_count": 23,
     "metadata": {},
     "output_type": "execute_result"
    }
   ],
   "source": [
    "#Accessing last two characters in reverse order\n",
    "s[-1:-3:-1]"
   ]
  },
  {
   "cell_type": "code",
   "execution_count": 24,
   "metadata": {},
   "outputs": [
    {
     "data": {
      "text/plain": [
       "'mnih'"
      ]
     },
     "execution_count": 24,
     "metadata": {},
     "output_type": "execute_result"
    }
   ],
   "source": [
    "# Accessing alternate characters in a string\n",
    "# \"Muneiah\" -> \"mnih\"\n",
    "s[::2]"
   ]
  },
  {
   "cell_type": "code",
   "execution_count": 25,
   "metadata": {},
   "outputs": [
    {
     "data": {
      "text/plain": [
       "'hinm'"
      ]
     },
     "execution_count": 25,
     "metadata": {},
     "output_type": "execute_result"
    }
   ],
   "source": [
    "# Accessing alternate characters of a string in reverse order\n",
    "#'Muneiah'-->hinm\n",
    "s[::-2]"
   ]
  },
  {
   "cell_type": "code",
   "execution_count": 28,
   "metadata": {},
   "outputs": [
    {
     "name": "stdout",
     "output_type": "stream",
     "text": [
      "1990\n"
     ]
    },
    {
     "data": {
      "text/plain": [
       "False"
      ]
     },
     "execution_count": 28,
     "metadata": {},
     "output_type": "execute_result"
    }
   ],
   "source": [
    "\n",
    "#Function to check if a given year is a leap year\n",
    "year=int(input())\n",
    "def isLeapYear(year):\n",
    "    if year % 400 == 0 or (year % 100 != 0 and year % 4 == 0):\n",
    "        return True\n",
    "    return False\n",
    "\n",
    "isLeapYear(year)"
   ]
  },
  {
   "cell_type": "code",
   "execution_count": 30,
   "metadata": {},
   "outputs": [
    {
     "name": "stdout",
     "output_type": "stream",
     "text": [
      "2020\n",
      "True\n"
     ]
    }
   ],
   "source": [
    "#Function to check if a given year is a leap year\n",
    "year=int(input())\n",
    "def isLeap(year):\n",
    "    if year%400==0 or (year % 100!=0 and year %4==0):\n",
    "        print(True)\n",
    "    else:\n",
    "        print(False)\n",
    "isLeap(year)"
   ]
  },
  {
   "cell_type": "code",
   "execution_count": 34,
   "metadata": {},
   "outputs": [
    {
     "name": "stdout",
     "output_type": "stream",
     "text": [
      "23456789\n"
     ]
    },
    {
     "data": {
      "text/plain": [
       "8"
      ]
     },
     "execution_count": 34,
     "metadata": {},
     "output_type": "execute_result"
    }
   ],
   "source": [
    "# Function to count the number of digits in a given number\n",
    "num=int(input())\n",
    "def numCount(num):\n",
    "    return len(str(num))\n",
    "numCount(num)\n",
    "        "
   ]
  },
  {
   "cell_type": "code",
   "execution_count": 42,
   "metadata": {},
   "outputs": [
    {
     "name": "stdout",
     "output_type": "stream",
     "text": [
      "4\n",
      "4\n",
      "8\n",
      "8\n",
      "7\n",
      "7\n",
      "32\n",
      "32\n",
      "45\n"
     ]
    }
   ],
   "source": [
    "\n",
    "while True:\n",
    "    n=int(input())\n",
    "    if n>=42:\n",
    "        break\n",
    "    print(n)\n",
    "\n",
    "    "
   ]
  },
  {
   "cell_type": "code",
   "execution_count": null,
   "metadata": {},
   "outputs": [],
   "source": [
    "# Filter all Primes in a range\n",
    "\n",
    "def checkPrime(n):\n",
    "    if n < 2:\n",
    "        return False\n",
    "    for i in range(2,n//2 + 1):\n",
    "        if n % i == 0:\n",
    "            return False\n",
    "    return True\n",
    "lb, ub = 500, 600\n",
    "primeList = list(filter(checkPrime, range(lb,ub)))\n",
    "\n",
    "\n",
    "primeList2 = [i for i in range(lb, ub+1) if checkPrime(i) ]\n",
    "\n",
    "# Map fails because it doesn't apply for checking conditions\n",
    "\n",
    "print(primeList)\n",
    "print(primeList2)"
   ]
  },
  {
   "cell_type": "code",
   "execution_count": 74,
   "metadata": {},
   "outputs": [
    {
     "name": "stdout",
     "output_type": "stream",
     "text": [
      "[2, 3, 5, 7, 11, 13, 17, 19, 23, 29, 31, 37, 41, 43, 47, 53, 59, 61, 67, 71, 73, 79, 83, 89, 97]"
     ]
    }
   ],
   "source": [
    "def isPrime(n):\n",
    "    if n<2:\n",
    "        return False\n",
    "    for i in range(2,n//2+1):\n",
    "        if n%i==0:\n",
    "            return False\n",
    "    return True\n",
    "isPrime(13)\n",
    "lb,ub=1,97\n",
    "primeList=[i for i in range(lb,ub+1) if isPrime(i)]\n",
    "#primeList--->[2, 3, 5, 7, 11, 13, 17, 19]\n",
    "primelist2=list(filter(isPrime,range(lb,ub+1)))\n",
    "print(primelist2,end='')\n",
    "# l=sum(primelist2)\n",
    "# avarage=l//len(primelist2)\n",
    "# avarage"
   ]
  },
  {
   "cell_type": "code",
   "execution_count": 21,
   "metadata": {},
   "outputs": [
    {
     "data": {
      "text/plain": [
       "255"
      ]
     },
     "execution_count": 21,
     "metadata": {},
     "output_type": "execute_result"
    }
   ],
   "source": [
    "import pandas as pd\n",
    "\n",
    "filedata='datafiles/pok.csv'\n",
    "rdata=pd.read_csv(filedata)\n",
    "# rdata[\"Name\"]\n",
    "max(rdata['HP'])"
   ]
  },
  {
   "cell_type": "code",
   "execution_count": 23,
   "metadata": {},
   "outputs": [
    {
     "name": "stdout",
     "output_type": "stream",
     "text": [
      "45\n",
      "60\n",
      "80\n",
      "80\n",
      "39\n",
      "58\n",
      "78\n",
      "78\n",
      "78\n",
      "44\n",
      "59\n",
      "79\n",
      "79\n",
      "45\n",
      "50\n",
      "60\n",
      "40\n",
      "45\n",
      "65\n",
      "65\n",
      "40\n",
      "63\n",
      "83\n",
      "83\n",
      "30\n",
      "55\n",
      "40\n",
      "65\n",
      "35\n",
      "60\n",
      "35\n",
      "60\n",
      "50\n",
      "75\n",
      "55\n",
      "70\n",
      "90\n",
      "46\n",
      "61\n",
      "81\n",
      "70\n",
      "95\n",
      "38\n",
      "73\n",
      "115\n",
      "140\n",
      "40\n",
      "75\n",
      "45\n",
      "60\n",
      "75\n",
      "35\n",
      "60\n",
      "60\n",
      "70\n",
      "10\n",
      "35\n",
      "40\n",
      "65\n",
      "50\n",
      "80\n",
      "40\n",
      "65\n",
      "55\n",
      "90\n",
      "40\n",
      "65\n",
      "90\n",
      "25\n",
      "40\n",
      "55\n",
      "55\n",
      "70\n",
      "80\n",
      "90\n",
      "50\n",
      "65\n",
      "80\n",
      "40\n",
      "80\n",
      "40\n",
      "55\n",
      "80\n",
      "50\n",
      "65\n",
      "90\n",
      "95\n",
      "95\n",
      "25\n",
      "50\n",
      "52\n",
      "35\n",
      "60\n",
      "65\n",
      "90\n",
      "80\n",
      "105\n",
      "30\n",
      "50\n",
      "30\n",
      "45\n",
      "60\n",
      "60\n",
      "35\n",
      "60\n",
      "85\n",
      "30\n",
      "55\n",
      "40\n",
      "60\n",
      "60\n",
      "95\n",
      "50\n",
      "60\n",
      "50\n",
      "50\n",
      "90\n",
      "40\n",
      "65\n",
      "80\n",
      "105\n",
      "250\n",
      "65\n",
      "105\n",
      "105\n",
      "30\n",
      "55\n",
      "45\n",
      "80\n",
      "30\n",
      "60\n",
      "40\n",
      "70\n",
      "65\n",
      "65\n",
      "65\n",
      "65\n",
      "65\n",
      "75\n",
      "20\n",
      "95\n",
      "95\n",
      "130\n",
      "48\n",
      "55\n",
      "130\n",
      "65\n",
      "65\n",
      "65\n",
      "35\n",
      "70\n",
      "30\n",
      "60\n",
      "80\n",
      "80\n",
      "160\n",
      "90\n",
      "90\n",
      "90\n",
      "41\n",
      "61\n",
      "91\n",
      "106\n",
      "106\n",
      "106\n",
      "100\n",
      "45\n",
      "60\n",
      "80\n",
      "39\n",
      "58\n",
      "78\n",
      "50\n",
      "65\n",
      "85\n",
      "35\n",
      "85\n",
      "60\n",
      "100\n",
      "40\n",
      "55\n",
      "40\n",
      "70\n",
      "85\n",
      "75\n",
      "125\n",
      "20\n",
      "50\n",
      "90\n",
      "35\n",
      "55\n",
      "40\n",
      "65\n",
      "55\n",
      "70\n",
      "90\n",
      "90\n",
      "75\n",
      "70\n",
      "100\n",
      "70\n",
      "90\n",
      "35\n",
      "55\n",
      "75\n",
      "55\n",
      "30\n",
      "75\n",
      "65\n",
      "55\n",
      "95\n",
      "65\n",
      "95\n",
      "60\n",
      "95\n",
      "60\n",
      "48\n",
      "190\n",
      "70\n",
      "50\n",
      "75\n",
      "100\n",
      "65\n",
      "75\n",
      "75\n",
      "60\n",
      "90\n",
      "65\n",
      "70\n",
      "70\n",
      "20\n",
      "80\n",
      "80\n",
      "55\n",
      "60\n",
      "90\n",
      "40\n",
      "50\n",
      "50\n",
      "100\n",
      "55\n",
      "35\n",
      "75\n",
      "45\n",
      "65\n",
      "65\n",
      "45\n",
      "75\n",
      "75\n",
      "75\n",
      "90\n",
      "90\n",
      "85\n",
      "73\n",
      "55\n",
      "35\n",
      "50\n",
      "45\n",
      "45\n",
      "45\n",
      "95\n",
      "255\n",
      "90\n",
      "115\n",
      "100\n",
      "50\n",
      "70\n",
      "100\n",
      "100\n",
      "106\n",
      "106\n",
      "100\n",
      "40\n",
      "50\n",
      "70\n",
      "70\n",
      "45\n",
      "60\n",
      "80\n",
      "80\n",
      "50\n",
      "70\n",
      "100\n",
      "100\n",
      "35\n",
      "70\n",
      "38\n",
      "78\n",
      "45\n",
      "50\n",
      "60\n",
      "50\n",
      "60\n",
      "40\n",
      "60\n",
      "80\n",
      "40\n",
      "70\n",
      "90\n",
      "40\n",
      "60\n",
      "40\n",
      "60\n",
      "28\n",
      "38\n",
      "68\n",
      "68\n",
      "40\n",
      "70\n",
      "60\n",
      "60\n",
      "60\n",
      "80\n",
      "150\n",
      "31\n",
      "61\n",
      "1\n",
      "64\n",
      "84\n",
      "104\n",
      "72\n",
      "144\n",
      "50\n",
      "30\n",
      "50\n",
      "70\n",
      "50\n",
      "50\n",
      "50\n",
      "50\n",
      "50\n",
      "60\n",
      "70\n",
      "70\n",
      "30\n",
      "60\n",
      "60\n",
      "40\n",
      "70\n",
      "70\n",
      "60\n",
      "60\n",
      "65\n",
      "65\n",
      "50\n",
      "70\n",
      "100\n",
      "45\n",
      "70\n",
      "70\n",
      "130\n",
      "170\n",
      "60\n",
      "70\n",
      "70\n",
      "70\n",
      "60\n",
      "80\n",
      "60\n",
      "45\n",
      "50\n",
      "80\n",
      "50\n",
      "70\n",
      "45\n",
      "75\n",
      "75\n",
      "73\n",
      "73\n",
      "70\n",
      "70\n",
      "50\n",
      "110\n",
      "43\n",
      "63\n",
      "40\n",
      "60\n",
      "66\n",
      "86\n",
      "45\n",
      "75\n",
      "20\n",
      "95\n",
      "70\n",
      "60\n",
      "44\n",
      "64\n",
      "64\n",
      "20\n",
      "40\n",
      "99\n",
      "65\n",
      "65\n",
      "65\n",
      "95\n",
      "50\n",
      "80\n",
      "80\n",
      "70\n",
      "90\n",
      "110\n",
      "35\n",
      "55\n",
      "55\n",
      "100\n",
      "43\n",
      "45\n",
      "65\n",
      "95\n",
      "95\n",
      "40\n",
      "60\n",
      "80\n",
      "80\n",
      "80\n",
      "80\n",
      "80\n",
      "80\n",
      "80\n",
      "80\n",
      "80\n",
      "100\n",
      "100\n",
      "100\n",
      "100\n",
      "105\n",
      "105\n",
      "100\n",
      "50\n",
      "50\n",
      "50\n",
      "50\n",
      "55\n",
      "75\n",
      "95\n",
      "44\n",
      "64\n",
      "76\n",
      "53\n",
      "64\n",
      "84\n",
      "40\n",
      "55\n",
      "85\n",
      "59\n",
      "79\n",
      "37\n",
      "77\n",
      "45\n",
      "60\n",
      "80\n",
      "40\n",
      "60\n",
      "67\n",
      "97\n",
      "30\n",
      "60\n",
      "40\n",
      "60\n",
      "60\n",
      "60\n",
      "70\n",
      "30\n",
      "70\n",
      "60\n",
      "55\n",
      "85\n",
      "45\n",
      "70\n",
      "76\n",
      "111\n",
      "75\n",
      "90\n",
      "150\n",
      "55\n",
      "65\n",
      "65\n",
      "60\n",
      "100\n",
      "49\n",
      "71\n",
      "45\n",
      "63\n",
      "103\n",
      "57\n",
      "67\n",
      "50\n",
      "20\n",
      "100\n",
      "76\n",
      "50\n",
      "58\n",
      "68\n",
      "108\n",
      "108\n",
      "135\n",
      "40\n",
      "70\n",
      "70\n",
      "68\n",
      "108\n",
      "40\n",
      "70\n",
      "48\n",
      "83\n",
      "74\n",
      "49\n",
      "69\n",
      "45\n",
      "60\n",
      "90\n",
      "90\n",
      "70\n",
      "70\n",
      "110\n",
      "115\n",
      "100\n",
      "75\n",
      "75\n",
      "85\n",
      "86\n",
      "65\n",
      "65\n",
      "75\n",
      "110\n",
      "85\n",
      "68\n",
      "68\n",
      "60\n",
      "45\n",
      "70\n",
      "50\n",
      "50\n",
      "50\n",
      "50\n",
      "50\n",
      "50\n",
      "75\n",
      "80\n",
      "75\n",
      "100\n",
      "90\n",
      "91\n",
      "110\n",
      "150\n",
      "150\n",
      "120\n",
      "80\n",
      "100\n",
      "70\n",
      "100\n",
      "100\n",
      "120\n",
      "100\n",
      "45\n",
      "60\n",
      "75\n",
      "65\n",
      "90\n",
      "110\n",
      "55\n",
      "75\n",
      "95\n",
      "45\n",
      "60\n",
      "45\n",
      "65\n",
      "85\n",
      "41\n",
      "64\n",
      "50\n",
      "75\n",
      "50\n",
      "75\n",
      "50\n",
      "75\n",
      "76\n",
      "116\n",
      "50\n",
      "62\n",
      "80\n",
      "45\n",
      "75\n",
      "55\n",
      "70\n",
      "85\n",
      "55\n",
      "67\n",
      "60\n",
      "110\n",
      "103\n",
      "103\n",
      "75\n",
      "85\n",
      "105\n",
      "50\n",
      "75\n",
      "105\n",
      "120\n",
      "75\n",
      "45\n",
      "55\n",
      "75\n",
      "30\n",
      "40\n",
      "60\n",
      "40\n",
      "60\n",
      "45\n",
      "70\n",
      "70\n",
      "50\n",
      "60\n",
      "95\n",
      "70\n",
      "105\n",
      "105\n",
      "75\n",
      "50\n",
      "70\n",
      "50\n",
      "65\n",
      "72\n",
      "38\n",
      "58\n",
      "54\n",
      "74\n",
      "55\n",
      "75\n",
      "50\n",
      "80\n",
      "40\n",
      "60\n",
      "55\n",
      "75\n",
      "45\n",
      "60\n",
      "70\n",
      "45\n",
      "65\n",
      "110\n",
      "62\n",
      "75\n",
      "36\n",
      "51\n",
      "71\n",
      "60\n",
      "80\n",
      "55\n",
      "50\n",
      "70\n",
      "69\n",
      "114\n",
      "55\n",
      "100\n",
      "165\n",
      "50\n",
      "70\n",
      "44\n",
      "74\n",
      "40\n",
      "60\n",
      "60\n",
      "35\n",
      "65\n",
      "85\n",
      "55\n",
      "75\n",
      "50\n",
      "60\n",
      "60\n",
      "46\n",
      "66\n",
      "76\n",
      "55\n",
      "95\n",
      "70\n",
      "50\n",
      "80\n",
      "109\n",
      "45\n",
      "65\n",
      "77\n",
      "59\n",
      "89\n",
      "45\n",
      "65\n",
      "95\n",
      "70\n",
      "100\n",
      "70\n",
      "110\n",
      "85\n",
      "58\n",
      "52\n",
      "72\n",
      "92\n",
      "55\n",
      "85\n",
      "91\n",
      "91\n",
      "91\n",
      "79\n",
      "79\n",
      "79\n",
      "79\n",
      "100\n",
      "100\n",
      "89\n",
      "89\n",
      "125\n",
      "125\n",
      "125\n",
      "91\n",
      "91\n",
      "100\n",
      "100\n",
      "71\n",
      "56\n",
      "61\n",
      "88\n",
      "40\n",
      "59\n",
      "75\n",
      "41\n",
      "54\n",
      "72\n",
      "38\n",
      "85\n",
      "45\n",
      "62\n",
      "78\n",
      "38\n",
      "45\n",
      "80\n",
      "62\n",
      "86\n",
      "44\n",
      "54\n",
      "78\n",
      "66\n",
      "123\n",
      "67\n",
      "95\n",
      "75\n",
      "62\n",
      "74\n",
      "74\n",
      "45\n",
      "59\n",
      "60\n",
      "60\n",
      "78\n",
      "101\n",
      "62\n",
      "82\n",
      "53\n",
      "86\n",
      "42\n",
      "72\n",
      "50\n",
      "65\n",
      "50\n",
      "71\n",
      "44\n",
      "62\n",
      "58\n",
      "82\n",
      "77\n",
      "123\n",
      "95\n",
      "78\n",
      "67\n",
      "50\n",
      "45\n",
      "68\n",
      "90\n",
      "57\n",
      "43\n",
      "85\n",
      "49\n",
      "44\n",
      "54\n",
      "59\n",
      "65\n",
      "55\n",
      "75\n",
      "85\n",
      "55\n",
      "95\n",
      "40\n",
      "85\n",
      "126\n",
      "126\n",
      "108\n",
      "50\n",
      "50\n",
      "80\n",
      "80\n",
      "80\n"
     ]
    }
   ],
   "source": [
    "rdata.loc[(rdata[\"HP\"])]\n",
    "for i in rdata[\"HP\"]:\n",
    "     print(i)\n",
    "    \n",
    "    \n",
    "    \n",
    "\n",
    "#rdata.loc[(rdata[\"Type 1\"]==\"Water\")]#location of data"
   ]
  },
  {
   "cell_type": "code",
   "execution_count": null,
   "metadata": {},
   "outputs": [],
   "source": []
  }
 ],
 "metadata": {
  "kernelspec": {
   "display_name": "Python 3",
   "language": "python",
   "name": "python3"
  },
  "language_info": {
   "codemirror_mode": {
    "name": "ipython",
    "version": 3
   },
   "file_extension": ".py",
   "mimetype": "text/x-python",
   "name": "python",
   "nbconvert_exporter": "python",
   "pygments_lexer": "ipython3",
   "version": "3.7.3"
  }
 },
 "nbformat": 4,
 "nbformat_minor": 2
}
