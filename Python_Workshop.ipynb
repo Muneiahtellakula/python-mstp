{
 "cells": [
  {
   "cell_type": "markdown",
   "metadata": {},
   "source": [
    "## Python Sets\n",
    " - Sets are used to store the  collection of data in python. It is unordered and unindexed. Sets contain unique values. \n",
    " - It is also represented as curly brackets. Ex: Set = { } or Set( )\n"
   ]
  },
  {
   "cell_type": "code",
   "execution_count": null,
   "metadata": {},
   "outputs": [],
   "source": []
  },
  {
   "cell_type": "code",
   "execution_count": 1,
   "metadata": {},
   "outputs": [
    {
     "name": "stdout",
     "output_type": "stream",
     "text": [
      "{1, 2, 3, 6, 8, 12}\n"
     ]
    }
   ],
   "source": [
    "#Example for Sets\n",
    "sets={1,2,3,2,6,3,8,12}\n",
    "print(sets)"
   ]
  },
  {
   "cell_type": "code",
   "execution_count": 2,
   "metadata": {},
   "outputs": [
    {
     "name": "stdout",
     "output_type": "stream",
     "text": [
      "{1, 2, 3, 6, 8, 12, 13}\n"
     ]
    }
   ],
   "source": [
    "#add( ): Adds an element at the end of the Set\n",
    "sets.add(13)\n",
    "print(sets)"
   ]
  },
  {
   "cell_type": "code",
   "execution_count": 3,
   "metadata": {},
   "outputs": [],
   "source": [
    "#copy( ): Returns copy of the Set\n",
    "s={8,9,7}"
   ]
  },
  {
   "cell_type": "code",
   "execution_count": null,
   "metadata": {},
   "outputs": [],
   "source": []
  },
  {
   "cell_type": "code",
   "execution_count": 4,
   "metadata": {},
   "outputs": [
    {
     "data": {
      "text/plain": [
       "set()"
      ]
     },
     "execution_count": 4,
     "metadata": {},
     "output_type": "execute_result"
    }
   ],
   "source": [
    "#clear( ): removes all the elements in the Set\n",
    "s.clear()\n",
    "s"
   ]
  },
  {
   "cell_type": "code",
   "execution_count": 5,
   "metadata": {},
   "outputs": [
    {
     "name": "stdout",
     "output_type": "stream",
     "text": [
      "{2, 3, 6, 8, 12, 13}\n"
     ]
    }
   ],
   "source": [
    "#pop( ): Removes the element from the end of the Set\n",
    "sets.pop()\n",
    "print(sets)"
   ]
  },
  {
   "cell_type": "code",
   "execution_count": 6,
   "metadata": {},
   "outputs": [],
   "source": [
    "#remove( ): Removes specified element\n",
    "# sets.remove()\n",
    "sets.remove(13)"
   ]
  },
  {
   "cell_type": "code",
   "execution_count": 7,
   "metadata": {},
   "outputs": [],
   "source": [
    "setsu={1,3,5,7,9}"
   ]
  },
  {
   "cell_type": "code",
   "execution_count": 8,
   "metadata": {},
   "outputs": [],
   "source": [
    "#update( ): Adds an entire set into another set.\n",
    "su={2,4,6,0}\n"
   ]
  },
  {
   "cell_type": "code",
   "execution_count": 9,
   "metadata": {},
   "outputs": [
    {
     "data": {
      "text/plain": [
       "{0, 1, 2, 3, 4, 5, 6, 7, 9}"
      ]
     },
     "execution_count": 9,
     "metadata": {},
     "output_type": "execute_result"
    }
   ],
   "source": [
    "su.update(setsu)\n",
    "su"
   ]
  },
  {
   "cell_type": "code",
   "execution_count": 10,
   "metadata": {},
   "outputs": [
    {
     "data": {
      "text/plain": [
       "{1, 2, 4}"
      ]
     },
     "execution_count": 10,
     "metadata": {},
     "output_type": "execute_result"
    }
   ],
   "source": [
    "#difference_update( ): Returns the new updated set after make a difference between the two sets.\n",
    "s1={1,2,4,7,9}\n",
    "s2={6,7,8,9}\n",
    "s1.difference_update(s2)\n",
    "s1"
   ]
  },
  {
   "cell_type": "code",
   "execution_count": 11,
   "metadata": {},
   "outputs": [
    {
     "data": {
      "text/plain": [
       "{6, 8}"
      ]
     },
     "execution_count": 11,
     "metadata": {},
     "output_type": "execute_result"
    }
   ],
   "source": [
    "s1={1,2,4,7,9}\n",
    "s2={6,7,8,9}\n",
    "s2.difference_update(s1)\n",
    "s2"
   ]
  },
  {
   "cell_type": "code",
   "execution_count": 12,
   "metadata": {},
   "outputs": [
    {
     "data": {
      "text/plain": [
       "['chalapthi', 'muni', 'sai']"
      ]
     },
     "execution_count": 12,
     "metadata": {},
     "output_type": "execute_result"
    }
   ],
   "source": [
    "s=['muni','sai','chalapthi']\n",
    "s.sort(key=len ,reverse=True)\n",
    "s"
   ]
  },
  {
   "cell_type": "markdown",
   "metadata": {},
   "source": [
    "## List Comparhension \n",
    "* Python has an easier way to solve this issue using List Comprehension. List comprehension is an elegant way to define and create lists based on existing lists."
   ]
  },
  {
   "cell_type": "code",
   "execution_count": 13,
   "metadata": {},
   "outputs": [],
   "source": [
    "#Syntax of List Comprehension\n",
    "#[expression for item in list]\n",
    "#List Comprehension Syntax breakdown"
   ]
  },
  {
   "cell_type": "code",
   "execution_count": 14,
   "metadata": {},
   "outputs": [
    {
     "name": "stdout",
     "output_type": "stream",
     "text": [
      "[0, 1, 2, 3, 4, 5, 6, 7, 8, 9, 10]\n"
     ]
    }
   ],
   "source": [
    "# We need to generate the nanatural number 1 to 10 to append list \n",
    "n=10\n",
    "li=[]\n",
    "for i in range(0,11):\n",
    "    li.append(i)\n",
    "print(li)"
   ]
  },
  {
   "cell_type": "code",
   "execution_count": 15,
   "metadata": {},
   "outputs": [
    {
     "data": {
      "text/plain": [
       "[0, 1, 2, 3, 4, 5, 6, 7, 8, 9, 10]"
      ]
     },
     "execution_count": 15,
     "metadata": {},
     "output_type": "execute_result"
    }
   ],
   "source": [
    "l2=[i for i in range(0,11) ]\n",
    "l2"
   ]
  },
  {
   "cell_type": "code",
   "execution_count": 16,
   "metadata": {},
   "outputs": [
    {
     "name": "stdout",
     "output_type": "stream",
     "text": [
      "['h', 'u', 'm', 'a', 'n']\n"
     ]
    }
   ],
   "source": [
    "h_letters = []\n",
    "\n",
    "for letter in 'human':\n",
    "    h_letters.append(letter)\n",
    "\n",
    "print(h_letters)"
   ]
  },
  {
   "cell_type": "code",
   "execution_count": 17,
   "metadata": {},
   "outputs": [
    {
     "name": "stdout",
     "output_type": "stream",
     "text": [
      "['a', 'p', 's', 's', 'd', 'c']\n"
     ]
    }
   ],
   "source": [
    "h_letter=\"apssdc\"\n",
    "l=[h for h in h_letter]\n",
    "print(l)"
   ]
  },
  {
   "cell_type": "code",
   "execution_count": 18,
   "metadata": {},
   "outputs": [
    {
     "data": {
      "text/plain": [
       "'apssdc'"
      ]
     },
     "execution_count": 18,
     "metadata": {},
     "output_type": "execute_result"
    }
   ],
   "source": [
    "l2=\"\".join(l)\n",
    "l2"
   ]
  },
  {
   "cell_type": "code",
   "execution_count": 19,
   "metadata": {},
   "outputs": [
    {
     "name": "stdout",
     "output_type": "stream",
     "text": [
      "['h', 'u', 'm', 'a', 'n']\n"
     ]
    }
   ],
   "source": [
    "letters = list(map(lambda x: x, 'human'))\n",
    "print(letters)"
   ]
  },
  {
   "cell_type": "code",
   "execution_count": 20,
   "metadata": {},
   "outputs": [
    {
     "data": {
      "text/plain": [
       "['m', 'u', 'n', 'i']"
      ]
     },
     "execution_count": 20,
     "metadata": {},
     "output_type": "execute_result"
    }
   ],
   "source": [
    "lett=list(map(lambda x:x,\"muni\"))\n",
    "lett"
   ]
  },
  {
   "cell_type": "code",
   "execution_count": 21,
   "metadata": {},
   "outputs": [
    {
     "name": "stdout",
     "output_type": "stream",
     "text": [
      "10\n"
     ]
    },
    {
     "data": {
      "text/plain": [
       "[0, 1, 2, 3, 4, 5, 6, 7, 8, 9, 10]"
      ]
     },
     "execution_count": 21,
     "metadata": {},
     "output_type": "execute_result"
    }
   ],
   "source": [
    "n=int(input())\n",
    "l=[i for i in range(0,n+1) if n%2==0 ]\n",
    "l"
   ]
  },
  {
   "cell_type": "code",
   "execution_count": 27,
   "metadata": {},
   "outputs": [
    {
     "name": "stdout",
     "output_type": "stream",
     "text": [
      "3\n"
     ]
    },
    {
     "data": {
      "text/plain": [
       "False"
      ]
     },
     "execution_count": 27,
     "metadata": {},
     "output_type": "execute_result"
    }
   ],
   "source": [
    "# lb=int(input())\n",
    "# ub=int(input())\n",
    "n=int(input())\n",
    "def isPrime(n):\n",
    "    if n>=2:\n",
    "        return False\n",
    "    for i in range(2,n//2+1):\n",
    "        if n%i==0:\n",
    "            return False\n",
    "    return True\n",
    "isPrime(n)"
   ]
  },
  {
   "cell_type": "code",
   "execution_count": null,
   "metadata": {},
   "outputs": [],
   "source": [
    "# # Function to calculate the factorial\n",
    "\n",
    "# def factorial(n):\n",
    "#     if n == 0 or n == 1:\n",
    "#         return 1\n",
    "#     return n * factorial(n-1)\n",
    "# factorial(5)\n",
    "#1x2x3x4x5=120"
   ]
  },
  {
   "cell_type": "code",
   "execution_count": null,
   "metadata": {},
   "outputs": [],
   "source": [
    "def isFactorial(n):\n",
    "    if n==0 or n==1:\n",
    "        return 1\n",
    "    return n * isFactorial(n-1)\n",
    "# isFactorial(5)\n",
    "n=5\n",
    "fa=[isFactorial(i) for i in range(1,n+1)]\n",
    "fa"
   ]
  },
  {
   "cell_type": "code",
   "execution_count": null,
   "metadata": {},
   "outputs": [],
   "source": [
    "# List Comprehension to store \n",
    "#only leap years in a given time period\n",
    "\n",
    "st = 1970\n",
    "et = 2019\n",
    "leapYears = [i for i in range(st,et+1)\n",
    "             if i % 400 == 0 or (i % 100 != 0 and i % 4 == 0)]\n",
    "leapYears"
   ]
  },
  {
   "cell_type": "code",
   "execution_count": null,
   "metadata": {},
   "outputs": [],
   "source": [
    "lb=2000\n",
    "ub=2019\n",
    "lpy=[i for i in range(lb,ub+1) \n",
    "    if i % 400 == 0 or (i% 100 !=0 and i % 4==0)]\n",
    "lpy"
   ]
  },
  {
   "cell_type": "code",
   "execution_count": null,
   "metadata": {},
   "outputs": [],
   "source": [
    "n=2001\n",
    "lb=[i for i in range(n) if i % 400 ==0 or ( i % 100!=0 and i % 4==0)]\n"
   ]
  },
  {
   "cell_type": "code",
   "execution_count": null,
   "metadata": {},
   "outputs": [],
   "source": [
    "import re\n",
    "\n",
    "s=re.match('a','asdf')\n",
    "s"
   ]
  },
  {
   "cell_type": "code",
   "execution_count": null,
   "metadata": {},
   "outputs": [],
   "source": [
    "# s=re.match('a','sdfa')\n",
    "s=re.search('a','sdfa')\n",
    "s"
   ]
  },
  {
   "cell_type": "code",
   "execution_count": null,
   "metadata": {},
   "outputs": [],
   "source": [
    "s=re.findall('a','sdafa')\n",
    "s"
   ]
  },
  {
   "cell_type": "code",
   "execution_count": null,
   "metadata": {},
   "outputs": [],
   "source": [
    "s=re.findall('^[a-z]*','amuni1')\n",
    "s"
   ]
  },
  {
   "cell_type": "code",
   "execution_count": null,
   "metadata": {},
   "outputs": [],
   "source": [
    "import numpy as np\n",
    "\n",
    "li=[1,2,3,4,5,'z']\n",
    "\n",
    "a=np.array(li)\n",
    "a\n",
    "b=np.arange(15)\n",
    "b"
   ]
  },
  {
   "cell_type": "code",
   "execution_count": null,
   "metadata": {},
   "outputs": [],
   "source": [
    "m3=np.random.randint(0,2,size=(3,3,3,3))\n",
    "m3"
   ]
  },
  {
   "cell_type": "code",
   "execution_count": null,
   "metadata": {},
   "outputs": [],
   "source": [
    "m3.ndim"
   ]
  },
  {
   "cell_type": "code",
   "execution_count": null,
   "metadata": {},
   "outputs": [],
   "source": [
    "m3.size"
   ]
  },
  {
   "cell_type": "code",
   "execution_count": null,
   "metadata": {},
   "outputs": [],
   "source": [
    "m3.shape"
   ]
  },
  {
   "cell_type": "code",
   "execution_count": null,
   "metadata": {},
   "outputs": [],
   "source": [
    "m3.dtype"
   ]
  },
  {
   "cell_type": "code",
   "execution_count": null,
   "metadata": {},
   "outputs": [],
   "source": [
    "m3.itemsize"
   ]
  },
  {
   "cell_type": "markdown",
   "metadata": {},
   "source": [
    "## Pandas\n",
    "- Use Cases\n",
    "    * Data Cleaing\n",
    "    * Data Trasformation\n",
    "    * Data analysis \n",
    "- Notations \n",
    "    * Series \n",
    "    * Frames"
   ]
  },
  {
   "cell_type": "code",
   "execution_count": null,
   "metadata": {},
   "outputs": [],
   "source": [
    "import pandas as pd\n",
    "\n",
    "fmid={'s1':21,'s2':25,'s3':18}\n",
    "fmid = pd.Series(fmid)\n",
    "fmid"
   ]
  },
  {
   "cell_type": "code",
   "execution_count": null,
   "metadata": {},
   "outputs": [],
   "source": [
    "import pandas as pd\n",
    "\n",
    "\n",
    "internal1 = {'s1':21, 's2':18, 's3':24}\n",
    "\n",
    "internal1 = pd.Series(internal1)\n",
    "\n",
    "internal2 = {'s1':15, 's2':18, 's3':12}\n",
    "internal2 = pd.Series(internal2)\n",
    "internal2"
   ]
  },
  {
   "cell_type": "code",
   "execution_count": null,
   "metadata": {},
   "outputs": [],
   "source": [
    "import pandas as pd\n",
    " \n",
    "dists={'Kadapa':4,'Chitoor':2,'Ananthapur':1}\n",
    "dicts=pd.Series(dists)\n",
    "dicts"
   ]
  },
  {
   "cell_type": "code",
   "execution_count": null,
   "metadata": {},
   "outputs": [],
   "source": [
    "inter1={'s1':12,'s2':24,'s3':14}\n",
    "inter2={'s1':18,'s2':23,'s3':25}\n",
    "final={'Internal1':inter1,'Internal2':inter2}\n",
    "final=pd.DataFrame(final)\n",
    "final"
   ]
  },
  {
   "cell_type": "code",
   "execution_count": null,
   "metadata": {},
   "outputs": [],
   "source": [
    "final.columns"
   ]
  },
  {
   "cell_type": "code",
   "execution_count": null,
   "metadata": {},
   "outputs": [],
   "source": [
    "final.values"
   ]
  },
  {
   "cell_type": "code",
   "execution_count": null,
   "metadata": {},
   "outputs": [],
   "source": [
    "final.values[2]"
   ]
  },
  {
   "cell_type": "code",
   "execution_count": null,
   "metadata": {},
   "outputs": [],
   "source": [
    "final.values[0,1]"
   ]
  },
  {
   "cell_type": "code",
   "execution_count": null,
   "metadata": {},
   "outputs": [],
   "source": [
    "final.values[0,0]=1"
   ]
  },
  {
   "cell_type": "code",
   "execution_count": null,
   "metadata": {},
   "outputs": [],
   "source": [
    "final.values[1,1]"
   ]
  },
  {
   "cell_type": "code",
   "execution_count": null,
   "metadata": {},
   "outputs": [],
   "source": []
  },
  {
   "cell_type": "markdown",
   "metadata": {},
   "source": [
    "# Python Regular Expresions \n",
    "* Regular Expressions are seqvence of charecters that match a pattern\n",
    "* It is sybolic reprasentation \n",
    "* To use Regular expression we have to imoport the re(import re)\n",
    "        * [ ] are represent a character\n",
    "        * { } range set\n",
    "        * ^   Matches the starting letter\n",
    "        * $   Matches the ending \n",
    "        * *   Number of occarences (from 0)\n",
    "        * +   Number of occurances (from 1)\n",
    "        * .   Match a charecter\n",
    "        * ?   for zero or oneoccarence\n",
    "        * |   or\n",
    "        * ()  enclosing of Reg\n"
   ]
  },
  {
   "cell_type": "code",
   "execution_count": null,
   "metadata": {},
   "outputs": [],
   "source": []
  },
  {
   "cell_type": "code",
   "execution_count": 14,
   "metadata": {},
   "outputs": [
    {
     "name": "stdout",
     "output_type": "stream",
     "text": [
      "muni\n"
     ]
    }
   ],
   "source": [
    "#read mode\n",
    "fp='data.txt'\n",
    "def readData(fp):\n",
    "    with open(fp,'r') as f:\n",
    "        d=f.read(30)\n",
    "        print(d)\n",
    "#         return d\n",
    "readData(fp)"
   ]
  },
  {
   "cell_type": "code",
   "execution_count": 15,
   "metadata": {},
   "outputs": [
    {
     "name": "stdout",
     "output_type": "stream",
     "text": [
      "4\n"
     ]
    }
   ],
   "source": [
    "#wirite mode\n",
    "fp='data.txt'\n",
    "def writeData(fp):\n",
    "    with open(fp,'w') as f:\n",
    "        d=f.write(\"muni\")\n",
    "        print(d)\n",
    "writeData(fp)"
   ]
  },
  {
   "cell_type": "code",
   "execution_count": 41,
   "metadata": {},
   "outputs": [
    {
     "name": "stdout",
     "output_type": "stream",
     "text": [
      "31\n"
     ]
    }
   ],
   "source": [
    "#append mode\n",
    "fp='data.txt'\n",
    "def writeData(fp):\n",
    "    with open(fp,'a') as f:\n",
    "        d=f.write(\"\\nHello Students Good Morning..!\")\n",
    "        print(d)\n",
    "writeData(fp)"
   ]
  },
  {
   "cell_type": "code",
   "execution_count": 19,
   "metadata": {},
   "outputs": [
    {
     "name": "stdout",
     "output_type": "stream",
     "text": [
      "munimuni\n",
      "Hello Students Good Morning..!\n"
     ]
    }
   ],
   "source": [
    "#open()\n",
    "f='data.txt'\n",
    "s=open(f)\n",
    "fh=s.read()\n",
    "print(fh)"
   ]
  },
  {
   "cell_type": "code",
   "execution_count": 33,
   "metadata": {},
   "outputs": [
    {
     "name": "stdout",
     "output_type": "stream",
     "text": [
      "10\n"
     ]
    }
   ],
   "source": [
    "#tell()\n",
    "fp='data.txt'\n",
    "def readData(fp):\n",
    "    with open(fp,'r') as f:\n",
    "        f.read()\n",
    "        print(f.tell())\n",
    "#         return d\n",
    "readData(fp)"
   ]
  },
  {
   "cell_type": "code",
   "execution_count": 40,
   "metadata": {},
   "outputs": [
    {
     "name": "stdout",
     "output_type": "stream",
     "text": [
      "APSSDC\n"
     ]
    }
   ],
   "source": [
    "#seek()\n",
    "fp='data.txt'\n",
    "def readData(fp):\n",
    "    with open(fp,'r') as f:\n",
    "        f.read()\n",
    "        f.seek(0)\n",
    "        print(f.read(7))\n",
    "#         f.read(7)\n",
    "readData(fp)"
   ]
  },
  {
   "cell_type": "code",
   "execution_count": 42,
   "metadata": {},
   "outputs": [
    {
     "name": "stdout",
     "output_type": "stream",
     "text": [
      "['APSSDC', 'Hello', 'Students', 'Good', 'Morning..!']\n"
     ]
    }
   ],
   "source": [
    "#Split()\n",
    "fp='data.txt'\n",
    "def readData(fp):\n",
    "    with open(fp,'r') as f:\n",
    "        d=f.read()\n",
    "        words=d.split()\n",
    "        print(words)\n",
    "#         return d\n",
    "readData(fp)"
   ]
  },
  {
   "cell_type": "code",
   "execution_count": 44,
   "metadata": {},
   "outputs": [
    {
     "name": "stdout",
     "output_type": "stream",
     "text": [
      "APSSDC\n",
      "\n",
      "Hello Students Good Morning..!\n",
      "['APSSDC\\n', 'Hello Students Good Morning..!']\n"
     ]
    }
   ],
   "source": [
    "#Read lines\n",
    "fp='data.txt'\n",
    "def readData(fp):\n",
    "    with open(fp,'r') as f:\n",
    "        d=f.readlines()\n",
    "        for i in d:\n",
    "            print(i)\n",
    "        print(d)\n",
    "readData(fp)"
   ]
  },
  {
   "cell_type": "code",
   "execution_count": 56,
   "metadata": {},
   "outputs": [
    {
     "name": "stdout",
     "output_type": "stream",
     "text": [
      "9\n"
     ]
    }
   ],
   "source": [
    "#Count the no of line in a file\n",
    "def countLines(fp):\n",
    "    c=0\n",
    "    with open(fp,'r') as f:\n",
    "        for i in f:\n",
    "            c+=1\n",
    "        return c\n",
    "print(countLines(fp))\n",
    "\n",
    "            "
   ]
  },
  {
   "cell_type": "code",
   "execution_count": 68,
   "metadata": {},
   "outputs": [
    {
     "name": "stdout",
     "output_type": "stream",
     "text": [
      "{1, 2, 4, 5, 6, 100, 10, 20, 30}\n",
      "{1, 2, 4, 5, 6, 100, 10, 20, 30}\n",
      "1\n",
      "{2, 4, 5, 6, 100, 10, 20, 30}\n",
      "{1, 5, 6, 7, 8, 9, 10, 40, 20, 30}\n",
      "{100, 2, 4}\n",
      "None\n"
     ]
    }
   ],
   "source": [
    "##Sets\n",
    "s={1,2,5,4,6,5,100,10,20,30}\n",
    "print(s)\n",
    "print(s.copy())\n",
    "print(s.pop())\n",
    "print(s)\n",
    "s1={7,8,9,1,5,6,10,20,30,40}\n",
    "print(s1)\n",
    "print(s.difference(s1))\n",
    "print(s.difference_update(s1))\n",
    "# print(s)\n",
    "\n"
   ]
  },
  {
   "cell_type": "code",
   "execution_count": 84,
   "metadata": {},
   "outputs": [
    {
     "name": "stdout",
     "output_type": "stream",
     "text": [
      "Union --> {100, 40, 200, 10, 300, 400, 80, 50, 20, 30}\n"
     ]
    }
   ],
   "source": [
    "#union\n",
    "stu1={10,20,30,40,50}\n",
    "stu2={100,200,300,400,10,80,20,50}\n",
    "print('Union -->',stu1.union(stu2))"
   ]
  },
  {
   "cell_type": "code",
   "execution_count": 85,
   "metadata": {},
   "outputs": [
    {
     "name": "stdout",
     "output_type": "stream",
     "text": [
      "Diffarence--> {40, 30}\n"
     ]
    }
   ],
   "source": [
    "#Diffarence\n",
    "print(\"Diffarence-->\",stu1.difference(stu2))"
   ]
  },
  {
   "cell_type": "code",
   "execution_count": 86,
   "metadata": {},
   "outputs": [
    {
     "name": "stdout",
     "output_type": "stream",
     "text": [
      "Interseton--> {10, 50, 20}\n"
     ]
    }
   ],
   "source": [
    "#Intersetion\n",
    "print('Interseton-->',stu1.intersection(stu2))"
   ]
  },
  {
   "cell_type": "code",
   "execution_count": 89,
   "metadata": {},
   "outputs": [
    {
     "data": {
      "text/plain": [
       "[2, 4, 6, 8]"
      ]
     },
     "execution_count": 89,
     "metadata": {},
     "output_type": "execute_result"
    }
   ],
   "source": [
    "#Funtional Programming \n",
    "#List Comprahention\n",
    "# Easy for cration list .It is more efficent to compare for loops\n",
    "li=[i for i in range(1,10) if i%2==0]\n",
    "li"
   ]
  },
  {
   "cell_type": "code",
   "execution_count": 1,
   "metadata": {},
   "outputs": [
    {
     "name": "stdout",
     "output_type": "stream",
     "text": [
      "[3, 4, 5, 6, 7, 8, 9, 10, 11, 12, 13, 14, 15, 16, 17, 18, 19, 20]\n"
     ]
    }
   ],
   "source": [
    "def isPrime(n):\n",
    "    if n<2:\n",
    "        return False\n",
    "    for i in range(2,n//2+1):\n",
    "        if i%n==0:\n",
    "            return False\n",
    "    return True\n",
    "isPrime(5)\n",
    "lb=3\n",
    "ub=20\n",
    "p=[i for i in range(lb,ub+1) if isPrime(i) ]\n",
    "print(p)"
   ]
  },
  {
   "cell_type": "code",
   "execution_count": null,
   "metadata": {},
   "outputs": [],
   "source": []
  }
 ],
 "metadata": {
  "kernelspec": {
   "display_name": "Python 3",
   "language": "python",
   "name": "python3"
  },
  "language_info": {
   "codemirror_mode": {
    "name": "ipython",
    "version": 3
   },
   "file_extension": ".py",
   "mimetype": "text/x-python",
   "name": "python",
   "nbconvert_exporter": "python",
   "pygments_lexer": "ipython3",
   "version": "3.7.3"
  }
 },
 "nbformat": 4,
 "nbformat_minor": 2
}
