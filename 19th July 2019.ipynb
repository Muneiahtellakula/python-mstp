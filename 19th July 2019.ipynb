{
 "cells": [
  {
   "cell_type": "markdown",
   "metadata": {},
   "source": [
    "# Min-Max\n",
    "* Given an array of integers . Check if all the numbers between minimum and maximum number in array exist's within the array .\n",
    "\n",
    "* Print 'YES' if numbers exist otherwise print 'NO'(without quotes).\n",
    "\n",
    "\n",
    "* Sample Input\n",
    "- 6\n",
    "- 4 2 1 3 5 6\n",
    "- output -->Yes\n"
   ]
  },
  {
   "cell_type": "code",
   "execution_count": null,
   "metadata": {},
   "outputs": [],
   "source": [
    "n=int(input())\n",
    "n1=list(map(int,input().split()))\n",
    "if n==len(n1):\n",
    "    s=list(set(n1))\n",
    "    mi=min(s)\n",
    "    mx=max(s)\n",
    "    li=[i for i in range(mi,mx+1)]\n",
    "    if li==s:\n",
    "        print(\"YES\")\n",
    "    else:\n",
    "        print(\"NO\")\n",
    "else:\n",
    "    print(\"NO\")"
   ]
  },
  {
   "cell_type": "markdown",
   "metadata": {},
   "source": [
    "##  Seven-Segment Display\n",
    "You all must have seen a seven segment display.If not here it is:\n",
    "\n",
    "![sevensegment_logo](seg.png)\n",
    "\n",
    "Alice got a number written in seven segment format where each segment was creatted used a matchstick.\n",
    "\n",
    "Example: If Alice gets a number 123 so basically Alice used 12 matchsticks for this number.\n",
    "\n",
    "Alice is wondering what is the numerically largest value that she can generate by using at most the matchsticks that she currently possess.Help Alice out by telling her that number.\n",
    "\n",
    "* SAMPLE INPUT \n",
    "     * 2\n",
    "     * 1\n",
    "     * 0\n",
    "* SAMPLE Output \n",
    "     * 1\n",
    "     * 111\n",
    "     "
   ]
  },
  {
   "cell_type": "code",
   "execution_count": null,
   "metadata": {},
   "outputs": [],
   "source": [
    "## Solution\n",
    "def myfun(num):\n",
    "   num=int(num)\n",
    "   if num==0:\n",
    "        num+=6\n",
    "   elif num==1:\n",
    "        num+=1\n",
    "   elif num==2:\n",
    "        num+=3\n",
    "   elif num==3:\n",
    "        num+=2\n",
    "   elif num==4:\n",
    "        num+=0\n",
    "   elif num==5:\n",
    "        num+=0\n",
    "   elif num==6:\n",
    "        num+=0\n",
    "   elif num==7:\n",
    "        num-=4\n",
    "   elif num==8:\n",
    "        num-=1\n",
    "   elif num==9:\n",
    "        num-=3\n",
    "        \n",
    "       \n",
    "   return num\n",
    "test=int(input())\n",
    "for i in range(test):\n",
    "   num=input()\n",
    "   res1=0\n",
    "   for i in num:\n",
    "       res1+=myfun(i)\n",
    "   #print(res)\n",
    "\n",
    "   if res1%2==1:\n",
    "       print(7,end='')\n",
    "       for g in range((res1-3)//2):\n",
    "           print(1,end='')\n",
    "   \n",
    "   else:\n",
    "       for h in range(res1//2):\n",
    "           print(1,end='')\n",
    "   \n",
    "   print()"
   ]
  },
  {
   "cell_type": "code",
   "execution_count": null,
   "metadata": {},
   "outputs": [],
   "source": []
  }
 ],
 "metadata": {
  "kernelspec": {
   "display_name": "Python 3",
   "language": "python",
   "name": "python3"
  },
  "language_info": {
   "codemirror_mode": {
    "name": "ipython",
    "version": 3
   },
   "file_extension": ".py",
   "mimetype": "text/x-python",
   "name": "python",
   "nbconvert_exporter": "python",
   "pygments_lexer": "ipython3",
   "version": "3.7.3"
  }
 },
 "nbformat": 4,
 "nbformat_minor": 2
}
