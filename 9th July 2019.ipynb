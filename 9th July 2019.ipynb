{
 "cells": [
  {
   "cell_type": "markdown",
   "metadata": {},
   "source": [
    "#Given the participants ‘n’ score sheet for your University Sports Day, you are required to find the runner-up score. \n",
    "#You are given scores. Store them in a list and find the score of the runner-up. (there can be multiple winners - \n",
    "#if their scores match).\n",
    "\n"
   ]
  },
  {
   "cell_type": "code",
   "execution_count": 22,
   "metadata": {},
   "outputs": [
    {
     "data": {
      "text/plain": [
       "[5, 4, 3, 2, 1]"
      ]
     },
     "execution_count": 22,
     "metadata": {},
     "output_type": "execute_result"
    }
   ],
   "source": [
    "#List - A group of collected values which \n",
    "li=[1,2,3,4,5]\n",
    "li.sort(reverse=True)\n",
    "li"
   ]
  },
  {
   "cell_type": "code",
   "execution_count": 17,
   "metadata": {},
   "outputs": [
    {
     "name": "stdout",
     "output_type": "stream",
     "text": [
      "4\n",
      "1\n",
      "2\n",
      "3\n",
      "4\n",
      "The Runner-up score is : 3\n"
     ]
    }
   ],
   "source": [
    "#Read the Number of Participants\n",
    "n=int(input())\n",
    "scroes=[]\n",
    "for i in range(n):\n",
    "    s=int(input())\n",
    "    scroes.append(s)\n",
    "scroes=sorted(scroes,reverse=True)\n",
    "#scroes[1]\n",
    "max_scroes=max(scroes)\n",
    "runnerup_score=scroes[1]\n",
    "try:\n",
    "    for i in range(1,n):\n",
    "        if max_scroes==scroes[i]:\n",
    "            runnerup_score=scroes[i+1]\n",
    "    print(\"The Runner-up score is :\",runnerup_score)\n",
    "except:\n",
    "    print(\"There is no runner-up scroe\")\n",
    "      \n",
    "\n",
    "\n",
    "    \n",
    "    "
   ]
  },
  {
   "cell_type": "code",
   "execution_count": 27,
   "metadata": {},
   "outputs": [
    {
     "data": {
      "text/plain": [
       "['__add__',\n",
       " '__class__',\n",
       " '__contains__',\n",
       " '__delattr__',\n",
       " '__delitem__',\n",
       " '__dir__',\n",
       " '__doc__',\n",
       " '__eq__',\n",
       " '__format__',\n",
       " '__ge__',\n",
       " '__getattribute__',\n",
       " '__getitem__',\n",
       " '__gt__',\n",
       " '__hash__',\n",
       " '__iadd__',\n",
       " '__imul__',\n",
       " '__init__',\n",
       " '__init_subclass__',\n",
       " '__iter__',\n",
       " '__le__',\n",
       " '__len__',\n",
       " '__lt__',\n",
       " '__mul__',\n",
       " '__ne__',\n",
       " '__new__',\n",
       " '__reduce__',\n",
       " '__reduce_ex__',\n",
       " '__repr__',\n",
       " '__reversed__',\n",
       " '__rmul__',\n",
       " '__setattr__',\n",
       " '__setitem__',\n",
       " '__sizeof__',\n",
       " '__str__',\n",
       " '__subclasshook__',\n",
       " 'append',\n",
       " 'clear',\n",
       " 'copy',\n",
       " 'count',\n",
       " 'extend',\n",
       " 'index',\n",
       " 'insert',\n",
       " 'pop',\n",
       " 'remove',\n",
       " 'reverse',\n",
       " 'sort']"
      ]
     },
     "execution_count": 27,
     "metadata": {},
     "output_type": "execute_result"
    }
   ],
   "source": [
    "dir(list)"
   ]
  },
  {
   "cell_type": "code",
   "execution_count": 24,
   "metadata": {},
   "outputs": [
    {
     "data": {
      "text/plain": [
       "[5, 4, 3, 2, 1]"
      ]
     },
     "execution_count": 24,
     "metadata": {},
     "output_type": "execute_result"
    }
   ],
   "source": [
    "li[2]\n",
    "l2=li.copy()\n",
    "l2"
   ]
  },
  {
   "cell_type": "code",
   "execution_count": 40,
   "metadata": {},
   "outputs": [
    {
     "data": {
      "text/plain": [
       "6"
      ]
     },
     "execution_count": 40,
     "metadata": {},
     "output_type": "execute_result"
    }
   ],
   "source": [
    "l2.extend(li)\n",
    "l2\n",
    "li.count(1)\n",
    "li.index(2)\n",
    "li.insert(4,6)\n",
    "li.index(4)\n",
    "li.pop(6)"
   ]
  },
  {
   "cell_type": "code",
   "execution_count": 47,
   "metadata": {},
   "outputs": [
    {
     "ename": "IndexError",
     "evalue": "pop index out of range",
     "output_type": "error",
     "traceback": [
      "\u001b[1;31m---------------------------------------------------------------------------\u001b[0m",
      "\u001b[1;31mIndexError\u001b[0m                                Traceback (most recent call last)",
      "\u001b[1;32m<ipython-input-47-990622e9612a>\u001b[0m in \u001b[0;36m<module>\u001b[1;34m\u001b[0m\n\u001b[1;32m----> 1\u001b[1;33m \u001b[0mli\u001b[0m\u001b[1;33m.\u001b[0m\u001b[0mpop\u001b[0m\u001b[1;33m(\u001b[0m\u001b[1;36m5\u001b[0m\u001b[1;33m)\u001b[0m\u001b[1;33m\u001b[0m\u001b[1;33m\u001b[0m\u001b[0m\n\u001b[0m\u001b[0;32m      2\u001b[0m \u001b[0mli\u001b[0m\u001b[1;33m.\u001b[0m\u001b[0mremove\u001b[0m\u001b[1;33m(\u001b[0m\u001b[1;36m4\u001b[0m\u001b[1;33m)\u001b[0m\u001b[1;33m\u001b[0m\u001b[1;33m\u001b[0m\u001b[0m\n\u001b[0;32m      3\u001b[0m \u001b[0mli\u001b[0m\u001b[1;33m.\u001b[0m\u001b[0mremove\u001b[0m\u001b[1;33m(\u001b[0m\u001b[1;36m6\u001b[0m\u001b[1;33m)\u001b[0m\u001b[1;33m\u001b[0m\u001b[1;33m\u001b[0m\u001b[0m\n",
      "\u001b[1;31mIndexError\u001b[0m: pop index out of range"
     ]
    }
   ],
   "source": [
    "li.pop(5)\n",
    "li.remove(4)\n",
    "li.remove(6)"
   ]
  },
  {
   "cell_type": "code",
   "execution_count": 49,
   "metadata": {},
   "outputs": [
    {
     "name": "stdout",
     "output_type": "stream",
     "text": [
      "enter the index2\n",
      "[3, 6, 1]\n"
     ]
    }
   ],
   "source": [
    "val=int(input(\"enter the index\"))\n",
    "for i in range(len(li)):\n",
    "    if val==i:\n",
    "        li.remove(li[i])\n",
    "print(li)"
   ]
  },
  {
   "cell_type": "code",
   "execution_count": 50,
   "metadata": {},
   "outputs": [
    {
     "data": {
      "text/plain": [
       "[6, 1]"
      ]
     },
     "execution_count": 50,
     "metadata": {},
     "output_type": "execute_result"
    }
   ],
   "source": [
    "li.pop(0)\n",
    "li"
   ]
  },
  {
   "cell_type": "markdown",
   "metadata": {},
   "source": [
    "## Dictionary\n",
    "A dictionary is a collection which is unordered, changeable and indexed. In Python dictionaries are written with curly brackets, and they have keys and values."
   ]
  },
  {
   "cell_type": "code",
   "execution_count": 51,
   "metadata": {},
   "outputs": [
    {
     "name": "stdout",
     "output_type": "stream",
     "text": [
      "{'name': 'muni', 'age': 19, 'profession': 'Trainer'}\n"
     ]
    }
   ],
   "source": [
    "sample={\"name\":\"muni\",\"age\":19,\"profession\":\"Trainer\"}\n",
    "print(sample)"
   ]
  },
  {
   "cell_type": "code",
   "execution_count": 56,
   "metadata": {},
   "outputs": [
    {
     "data": {
      "text/plain": [
       "'muni'"
      ]
     },
     "execution_count": 56,
     "metadata": {},
     "output_type": "execute_result"
    }
   ],
   "source": [
    "sample.get(\"name\")"
   ]
  },
  {
   "cell_type": "code",
   "execution_count": 57,
   "metadata": {},
   "outputs": [
    {
     "name": "stdout",
     "output_type": "stream",
     "text": [
      "name\n",
      "age\n",
      "profession\n"
     ]
    }
   ],
   "source": [
    "for i in sample:\n",
    "    print(i)"
   ]
  },
  {
   "cell_type": "code",
   "execution_count": 58,
   "metadata": {},
   "outputs": [
    {
     "name": "stdout",
     "output_type": "stream",
     "text": [
      "muni\n",
      "19\n",
      "Trainer\n"
     ]
    }
   ],
   "source": [
    "for i in sample.values():\n",
    "    print(i)\n",
    "    "
   ]
  },
  {
   "cell_type": "code",
   "execution_count": 62,
   "metadata": {},
   "outputs": [
    {
     "name": "stdout",
     "output_type": "stream",
     "text": [
      "name --> muni\n",
      "age --> 19\n",
      "profession --> Trainer\n"
     ]
    }
   ],
   "source": [
    "for k,v in sample.items():\n",
    "    print(k,\"-->\",v)"
   ]
  },
  {
   "cell_type": "code",
   "execution_count": 65,
   "metadata": {},
   "outputs": [
    {
     "name": "stdout",
     "output_type": "stream",
     "text": [
      "name - muni\n",
      "age - 19\n",
      "profession - Trainer\n"
     ]
    }
   ],
   "source": [
    "for i in sample.items():\n",
    "    print(i[0],\"-\",i[1])"
   ]
  },
  {
   "cell_type": "code",
   "execution_count": 68,
   "metadata": {},
   "outputs": [
    {
     "name": "stdout",
     "output_type": "stream",
     "text": [
      "not a key in a dictionary\n"
     ]
    }
   ],
   "source": [
    "if 'muni' not in sample:\n",
    "    print(\"not a key in a dictionary\")\n",
    "else:\n",
    "    print(\"noo..\")\n",
    "        \n",
    "    "
   ]
  },
  {
   "cell_type": "code",
   "execution_count": 69,
   "metadata": {},
   "outputs": [],
   "source": [
    "sample['salary']=1000\n"
   ]
  },
  {
   "cell_type": "code",
   "execution_count": 70,
   "metadata": {},
   "outputs": [
    {
     "data": {
      "text/plain": [
       "{'name': 'muni', 'age': 19, 'profession': 'Trainer', 'salary': 1000}"
      ]
     },
     "execution_count": 70,
     "metadata": {},
     "output_type": "execute_result"
    }
   ],
   "source": [
    "sample"
   ]
  },
  {
   "cell_type": "code",
   "execution_count": 71,
   "metadata": {},
   "outputs": [
    {
     "data": {
      "text/plain": [
       "'Trainer'"
      ]
     },
     "execution_count": 71,
     "metadata": {},
     "output_type": "execute_result"
    }
   ],
   "source": [
    "sample.pop(\"profession\")"
   ]
  },
  {
   "cell_type": "code",
   "execution_count": 72,
   "metadata": {},
   "outputs": [
    {
     "data": {
      "text/plain": [
       "{'name': 'muni', 'age': 19, 'salary': 1000}"
      ]
     },
     "execution_count": 72,
     "metadata": {},
     "output_type": "execute_result"
    }
   ],
   "source": [
    "sample"
   ]
  },
  {
   "cell_type": "code",
   "execution_count": 73,
   "metadata": {},
   "outputs": [
    {
     "data": {
      "text/plain": [
       "{'name': 'muni', 'age': 19}"
      ]
     },
     "execution_count": 73,
     "metadata": {},
     "output_type": "execute_result"
    }
   ],
   "source": [
    "sample.popitem()\n",
    "sample"
   ]
  },
  {
   "cell_type": "code",
   "execution_count": 74,
   "metadata": {},
   "outputs": [],
   "source": [
    "del sample['name']"
   ]
  },
  {
   "cell_type": "code",
   "execution_count": 75,
   "metadata": {},
   "outputs": [
    {
     "data": {
      "text/plain": [
       "{'age': 19}"
      ]
     },
     "execution_count": 75,
     "metadata": {},
     "output_type": "execute_result"
    }
   ],
   "source": [
    "sample"
   ]
  },
  {
   "cell_type": "code",
   "execution_count": 76,
   "metadata": {},
   "outputs": [],
   "source": [
    "sample.clear()"
   ]
  },
  {
   "cell_type": "code",
   "execution_count": 77,
   "metadata": {},
   "outputs": [
    {
     "data": {
      "text/plain": [
       "{}"
      ]
     },
     "execution_count": 77,
     "metadata": {},
     "output_type": "execute_result"
    }
   ],
   "source": [
    "sample"
   ]
  },
  {
   "cell_type": "code",
   "execution_count": 82,
   "metadata": {},
   "outputs": [
    {
     "data": {
      "text/plain": [
       "{'name': 'muni', 'age': 20, 'profession': 'trainer'}"
      ]
     },
     "execution_count": 82,
     "metadata": {},
     "output_type": "execute_result"
    }
   ],
   "source": [
    "sample=dict(name=\"muni\",age=20,profession=\"trainer\")\n",
    "sample\n"
   ]
  },
  {
   "cell_type": "code",
   "execution_count": 5,
   "metadata": {},
   "outputs": [
    {
     "name": "stdout",
     "output_type": "stream",
     "text": [
      "enter the sports persons name: muni\n",
      "Enter the score made by 100\n",
      "enter the sports persons name: lok\n",
      "Enter the score made by 60\n",
      "enter the sports persons name: sai\n",
      "Enter the score made by 99\n",
      "muni\n"
     ]
    }
   ],
   "source": [
    "sports={}\n",
    "for i in range(3):\n",
    "    name=input(\"enter the sports persons name: \")\n",
    "    score=int(input('Enter the score made by '))\n",
    "    sports[name]=score\n",
    "    \n",
    "#print(sports)\n",
    "# max_scroes=max(sports.values())\n",
    "# sports.keys()\n",
    "# for i in sports.items():\n",
    "#     if i[1]==max_scroes:\n",
    "#         print(i[0])\n"
   ]
  },
  {
   "cell_type": "code",
   "execution_count": 4,
   "metadata": {},
   "outputs": [
    {
     "data": {
      "text/plain": [
       "dict_items([('hanu', 67), ('muni', 6), ('pavan', 7)])"
      ]
     },
     "execution_count": 4,
     "metadata": {},
     "output_type": "execute_result"
    }
   ],
   "source": [
    "sports.items()"
   ]
  },
  {
   "cell_type": "code",
   "execution_count": 63,
   "metadata": {},
   "outputs": [
    {
     "name": "stdout",
     "output_type": "stream",
     "text": [
      "enter the sports persons name: muni\n",
      "Enter the score made by 30\n",
      "enter the sports persons name: loki \n",
      "Enter the score made by 20\n",
      "enter the sports persons name: ram\n",
      "Enter the score made by 10\n",
      "{'muni': 30, 'loki ': 20, 'ram': 10}\n"
     ]
    }
   ],
   "source": [
    "sports={}\n",
    "for i in range(3):\n",
    "    name=input(\"enter the sports persons name: \")\n",
    "    score=int(input('Enter the score made by '))\n",
    "    sports[name]=score\n",
    "print(sports)\n",
    "\n",
    " \n",
    "   \n",
    "    \n",
    "\n",
    "    "
   ]
  },
  {
   "cell_type": "code",
   "execution_count": 68,
   "metadata": {},
   "outputs": [
    {
     "name": "stdout",
     "output_type": "stream",
     "text": [
      "1 loki \n",
      "2 muni\n",
      "3 ram\n"
     ]
    }
   ],
   "source": [
    "r=0\n",
    "for i in sorted (sports.keys()) : \n",
    "    r=r+1\n",
    "    print(r,i)"
   ]
  },
  {
   "cell_type": "raw",
   "metadata": {},
   "source": [
    "it=iter('Python')\n",
    "print('1:')\n",
    "print(next(it))\n",
    "print('\\n')\n",
    "print('2:')\n",
    "# print(next(it))"
   ]
  },
  {
   "cell_type": "code",
   "execution_count": 2,
   "metadata": {},
   "outputs": [
    {
     "name": "stdout",
     "output_type": "stream",
     "text": [
      "5\n",
      "6\n",
      "[1]\n",
      "[1]\n",
      "[1, 2]\n",
      "[1, 2, 3]\n",
      "[1]\n"
     ]
    }
   ],
   "source": [
    "###### Given two integers find out the number of common factors to those integers \n",
    "n1=int(input())\n",
    "n2=int(input())\n",
    "li=[]\n",
    "l2=[]\n",
    "def isFactor(n1,n2):\n",
    "    for i in range(1,n1):\n",
    "        if n1%i==0:\n",
    "            li.append(i)\n",
    "            print(li)\n",
    "            \n",
    "    for j in range(1,n2):\n",
    "        if n2%j==0:\n",
    "            l2.append(j)\n",
    "            print(l2)\n",
    "    c=list(set(li) & set(l2))\n",
    "    print(c)\n",
    "isFactor(n1,n2)\n"
   ]
  },
  {
   "cell_type": "code",
   "execution_count": 16,
   "metadata": {},
   "outputs": [
    {
     "name": "stdout",
     "output_type": "stream",
     "text": [
      "10\n",
      "15\n",
      "[1]\n"
     ]
    }
   ],
   "source": [
    "# n1=int(input())\n",
    "for i in range(n1+1):\n",
    "    n2=int(input())\n",
    "s=0\n",
    "li=[]\n",
    "l2=[]\n",
    "def isFactor(n1,n2):\n",
    "    for i in range(1,n1+1):\n",
    "        if n1%i==0:\n",
    "            li.append(i)\n",
    "#             print(li)\n",
    "            \n",
    "    for j in range(1,n2+1):\n",
    "        if n2%j==0:\n",
    "            l2.append(j)\n",
    "#             print(l2)\n",
    "    c=list(set(li) & set(l2))\n",
    "    print(c)\n",
    "isFactor(n1,n2)"
   ]
  },
  {
   "cell_type": "code",
   "execution_count": 17,
   "metadata": {},
   "outputs": [
    {
     "name": "stdout",
     "output_type": "stream",
     "text": [
      "10\n",
      "15\n",
      "2\n"
     ]
    }
   ],
   "source": [
    "\n",
    "lb=int(input())\n",
    "ub=int(input())\n",
    "def commonfactoflbub(lb,ub):\n",
    "   l=[]\n",
    "   if lb!=0 and ub!=0:\n",
    "       for i in range(1,lb+1):\n",
    "           if lb%i==0 and ub%i==0:\n",
    "               l.append(i)\n",
    "       print(len(l))\n",
    "    \n",
    "   else:\n",
    "       print(\"-1\")\n",
    "commonfactoflbub(lb,ub)"
   ]
  },
  {
   "cell_type": "code",
   "execution_count": 52,
   "metadata": {},
   "outputs": [
    {
     "name": "stdout",
     "output_type": "stream",
     "text": [
      "2 100\n",
      "[1, 2]\n"
     ]
    }
   ],
   "source": [
    "s=input().split()\n",
    "lb=int(s[0])\n",
    "ub=int(s[1])\n",
    "#def commonfactoflbub(lb,ub):\n",
    "l=[]\n",
    "if lb!=0 and ub!=0:\n",
    "   for i in range(1,lb+1):\n",
    "       if lb%i==0 and ub%i==0:\n",
    "           l.append(i)\n",
    "   print(len(l))\n",
    "   #print(l)\n",
    "\n",
    "else:\n",
    "   print(\"-1\")\n",
    "#commonfactoflbub(lb,ub)"
   ]
  },
  {
   "cell_type": "markdown",
   "metadata": {},
   "source": [
    "##### x, y = raw_input(), raw_input() \n",
    "\n",
    "x, y = raw_input().split() \n"
   ]
  },
  {
   "cell_type": "code",
   "execution_count": 37,
   "metadata": {},
   "outputs": [
    {
     "name": "stdout",
     "output_type": "stream",
     "text": [
      "5 6\n"
     ]
    }
   ],
   "source": [
    "x, y = input().split() "
   ]
  },
  {
   "cell_type": "code",
   "execution_count": 54,
   "metadata": {},
   "outputs": [
    {
     "data": {
      "text/plain": [
       "2"
      ]
     },
     "execution_count": 54,
     "metadata": {},
     "output_type": "execute_result"
    }
   ],
   "source": [
    "s='1,2,3,4'\n",
    "s=s.split(',')\n",
    "l=[]\n",
    "for i in s:\n",
    "    l.append(int(i))\n",
    "l\n",
    "l[1]"
   ]
  },
  {
   "cell_type": "code",
   "execution_count": 57,
   "metadata": {},
   "outputs": [
    {
     "name": "stdout",
     "output_type": "stream",
     "text": [
      "muni hello\n"
     ]
    }
   ],
   "source": [
    "s1=\"muni\"\n",
    "s2=\"hello\"\n",
    "print(s1,s2)"
   ]
  },
  {
   "cell_type": "code",
   "execution_count": 59,
   "metadata": {},
   "outputs": [
    {
     "name": "stdout",
     "output_type": "stream",
     "text": [
      "MUNI\n"
     ]
    }
   ],
   "source": [
    "print(s1.swapcase())\n"
   ]
  },
  {
   "cell_type": "code",
   "execution_count": 76,
   "metadata": {},
   "outputs": [
    {
     "ename": "ValueError",
     "evalue": "50 is not in list",
     "output_type": "error",
     "traceback": [
      "\u001b[1;31m---------------------------------------------------------------------------\u001b[0m",
      "\u001b[1;31mValueError\u001b[0m                                Traceback (most recent call last)",
      "\u001b[1;32m<ipython-input-76-360acf2e8a7e>\u001b[0m in \u001b[0;36m<module>\u001b[1;34m\u001b[0m\n\u001b[0;32m      3\u001b[0m \u001b[0ml\u001b[0m\u001b[1;33m=\u001b[0m\u001b[0msorted\u001b[0m\u001b[1;33m(\u001b[0m\u001b[0msp\u001b[0m\u001b[1;33m)\u001b[0m\u001b[1;33m\u001b[0m\u001b[1;33m\u001b[0m\u001b[0m\n\u001b[0;32m      4\u001b[0m \u001b[1;32mfor\u001b[0m \u001b[0mi\u001b[0m \u001b[1;32min\u001b[0m \u001b[0msp\u001b[0m\u001b[1;33m.\u001b[0m\u001b[0mitems\u001b[0m\u001b[1;33m(\u001b[0m\u001b[1;33m)\u001b[0m\u001b[1;33m:\u001b[0m\u001b[1;33m\u001b[0m\u001b[1;33m\u001b[0m\u001b[0m\n\u001b[1;32m----> 5\u001b[1;33m     \u001b[0mindex\u001b[0m\u001b[1;33m=\u001b[0m\u001b[0ml\u001b[0m\u001b[1;33m.\u001b[0m\u001b[0mindex\u001b[0m\u001b[1;33m(\u001b[0m\u001b[0mi\u001b[0m\u001b[1;33m[\u001b[0m\u001b[1;36m1\u001b[0m\u001b[1;33m]\u001b[0m\u001b[1;33m)\u001b[0m\u001b[1;33m+\u001b[0m\u001b[1;36m1\u001b[0m\u001b[1;33m\u001b[0m\u001b[1;33m\u001b[0m\u001b[0m\n\u001b[0m\u001b[0;32m      6\u001b[0m     \u001b[0mprint\u001b[0m\u001b[1;33m(\u001b[0m\u001b[0mi\u001b[0m\u001b[1;33m[\u001b[0m\u001b[1;36m0\u001b[0m\u001b[1;33m]\u001b[0m\u001b[1;33m,\u001b[0m\u001b[0mindex\u001b[0m\u001b[1;33m)\u001b[0m\u001b[1;33m\u001b[0m\u001b[1;33m\u001b[0m\u001b[0m\n",
      "\u001b[1;31mValueError\u001b[0m: 50 is not in list"
     ]
    }
   ],
   "source": [
    "#Rank\n",
    "sp={\"muni\":50,\"rami\":30,\"loki\":25}\n",
    "l=sorted(sp)\n",
    "for i in sp.items():\n",
    "    index=l.index(i[1])+1\n",
    "    print(i[0],index)\n"
   ]
  },
  {
   "cell_type": "code",
   "execution_count": 85,
   "metadata": {},
   "outputs": [
    {
     "name": "stdout",
     "output_type": "stream",
     "text": [
      "1 --> 50 muni\n",
      "2 --> 30 rami\n",
      "3 --> 25 loki\n"
     ]
    }
   ],
   "source": [
    "sp={\"muni\":50,\"rami\":30,\"loki\":25}\n",
    "r=0\n",
    "for i in sorted(sp.values(), reverse=True):\n",
    "    r=r+1\n",
    "    for j in sp.keys():\n",
    "        if(sp.get(j)==i):\n",
    "            print(r,\"-->\",i,j)"
   ]
  },
  {
   "cell_type": "code",
   "execution_count": 2,
   "metadata": {},
   "outputs": [
    {
     "name": "stdout",
     "output_type": "stream",
     "text": [
      "3\n"
     ]
    },
    {
     "ename": "IndexError",
     "evalue": "list index out of range",
     "output_type": "error",
     "traceback": [
      "\u001b[1;31m---------------------------------------------------------------------------\u001b[0m",
      "\u001b[1;31mIndexError\u001b[0m                                Traceback (most recent call last)",
      "\u001b[1;32m<ipython-input-2-40d6f080ee9d>\u001b[0m in \u001b[0;36m<module>\u001b[1;34m\u001b[0m\n\u001b[0;32m     41\u001b[0m \u001b[0mll\u001b[0m\u001b[1;33m=\u001b[0m\u001b[0msorted\u001b[0m\u001b[1;33m(\u001b[0m\u001b[0mlis\u001b[0m\u001b[1;33m,\u001b[0m\u001b[0mreverse\u001b[0m\u001b[1;33m=\u001b[0m\u001b[1;32mTrue\u001b[0m\u001b[1;33m)\u001b[0m\u001b[1;33m\u001b[0m\u001b[1;33m\u001b[0m\u001b[0m\n\u001b[0;32m     42\u001b[0m \u001b[0mnn\u001b[0m\u001b[1;33m=\u001b[0m\u001b[0mint\u001b[0m\u001b[1;33m(\u001b[0m\u001b[0minput\u001b[0m\u001b[1;33m(\u001b[0m\u001b[1;33m)\u001b[0m\u001b[1;33m)\u001b[0m\u001b[1;33m\u001b[0m\u001b[1;33m\u001b[0m\u001b[0m\n\u001b[1;32m---> 43\u001b[1;33m \u001b[0mli1\u001b[0m\u001b[1;33m=\u001b[0m\u001b[0mll\u001b[0m\u001b[1;33m[\u001b[0m\u001b[0mnn\u001b[0m\u001b[1;33m]\u001b[0m\u001b[1;33m\u001b[0m\u001b[1;33m\u001b[0m\u001b[0m\n\u001b[0m\u001b[0;32m     44\u001b[0m \u001b[0mprint\u001b[0m\u001b[1;33m(\u001b[0m\u001b[0mll\u001b[0m\u001b[1;33m,\u001b[0m\u001b[0mli1\u001b[0m\u001b[1;33m)\u001b[0m\u001b[1;33m\u001b[0m\u001b[1;33m\u001b[0m\u001b[0m\n",
      "\u001b[1;31mIndexError\u001b[0m: list index out of range"
     ]
    }
   ],
   "source": [
    "#Find the Higest Freqvent element in the list\n",
    "#[1,1,1,1,2,1,2,3,5,3,2,1]-->1\n",
    "##Find the second Higest Freqvent element in the list\n",
    "#[1,1,1,1,2,2,3,5,3,2,1]--3\n",
    "##Find the kth  Higest Freqvent element in the list\n",
    "\n",
    "#Find the abosolute diff of two number \n",
    "#with out using 'abs' function\n",
    "#abs(10-19)\n",
    "\n",
    "\n",
    "\n",
    "#Find the Higest Freqvent element in the list\n",
    "li=[1,1,1,1,2,2,2,2,2,2,2,3,1,1,2]\n",
    "unique={}\n",
    "for i in li:\n",
    "    if i not in unique:\n",
    "        unique[i]=1\n",
    "    else:\n",
    "        unique[i] +=1\n",
    "        \n",
    "        \n",
    "        \n",
    "        \n",
    "        \n",
    "##Find the second Higest Freqvent element in the list\n",
    "# unique\n",
    "# max_value=max(unique.values())\n",
    "# for i in unique.items():\n",
    "#     if i[1] ==max_value:\n",
    "#         print(unique,i[0])\n",
    "\n",
    "\n",
    "\n",
    "\n",
    "\n",
    "##Find the kth  Higest Freqvent element in the list\n",
    "lis=[]\n",
    "for k,v in unique.items():\n",
    "    lis.append(v)\n",
    "ll=sorted(lis,reverse=True)\n",
    "nn=int(input())\n",
    "li1=ll[nn-1]\n",
    "print(ll,li1)"
   ]
  },
  {
   "cell_type": "code",
   "execution_count": 82,
   "metadata": {},
   "outputs": [
    {
     "data": {
      "text/plain": [
       "50"
      ]
     },
     "execution_count": 82,
     "metadata": {},
     "output_type": "execute_result"
    }
   ],
   "source": [
    "sp={\"muni\":50,\"rami\":30,\"loki\":25}\n",
    "sp.get(\"muni\")"
   ]
  },
  {
   "cell_type": "code",
   "execution_count": 101,
   "metadata": {},
   "outputs": [
    {
     "name": "stdout",
     "output_type": "stream",
     "text": [
      "3\n",
      "-8\n"
     ]
    },
    {
     "data": {
      "text/plain": [
       "5"
      ]
     },
     "execution_count": 101,
     "metadata": {},
     "output_type": "execute_result"
    }
   ],
   "source": [
    "\"\"\"Returns absolute value without using abs function\"\"\"\n",
    "# import math \n",
    "a=int(input())\n",
    "b=int(input())\n",
    "def withoutUsingabs(a,b):\n",
    "    c=a+b\n",
    "#     abs(c)\n",
    "    if c<= 0:\n",
    "        return c*-1\n",
    "    return c * 1\n",
    "withoutUsingabs(a,b)\n",
    "\n"
   ]
  },
  {
   "cell_type": "code",
   "execution_count": 93,
   "metadata": {},
   "outputs": [
    {
     "name": "stdout",
     "output_type": "stream",
     "text": [
      "10\n",
      "3.5\n"
     ]
    }
   ],
   "source": [
    "def my_abs(value):\n",
    "    \"\"\"Returns absolute value without using abs function\"\"\"\n",
    "    if value <= 0:\n",
    "        return value * -1\n",
    "    return value * 1\n",
    "\n",
    "print(my_abs(-10))\n",
    "# 3.5\n",
    "print(my_abs(3.5))\n",
    "#  3.5"
   ]
  },
  {
   "cell_type": "code",
   "execution_count": 95,
   "metadata": {},
   "outputs": [
    {
     "data": {
      "text/plain": [
       "9.0"
      ]
     },
     "execution_count": 95,
     "metadata": {},
     "output_type": "execute_result"
    }
   ],
   "source": [
    "def my_abs(value):\n",
    "    return (value**2)**(0.5)\n",
    "my_abs(-9)"
   ]
  },
  {
   "cell_type": "code",
   "execution_count": 102,
   "metadata": {},
   "outputs": [
    {
     "data": {
      "text/plain": [
       "[1, 1, 1, 1, 1, 1, 2, 2, 3]"
      ]
     },
     "execution_count": 102,
     "metadata": {},
     "output_type": "execute_result"
    }
   ],
   "source": [
    "a=[1,1,1,1,2,3,1,1,2]\n",
    "li=sorted(a)\n",
    "li"
   ]
  },
  {
   "cell_type": "code",
   "execution_count": 5,
   "metadata": {},
   "outputs": [
    {
     "name": "stdout",
     "output_type": "stream",
     "text": [
      "10 15\n",
      "2\n"
     ]
    }
   ],
   "source": [
    " import math\n",
    " \n",
    "numbers=input().split(' ')\n",
    "n1=int(numbers[0])\n",
    "n2=int(numbers[1])\n",
    " \n",
    "if n2>n1:\n",
    "    n1,n2=n2,n1\n",
    " \n",
    "sqrt1=int(sqrt(n1))+1\n",
    " \n",
    "factor_count=0\n",
    " \n",
    "for i in range(1, sqrt1):\n",
    "    if n1%i==0:\n",
    "        i_other=n1/i\n",
    "        if n2%i==0:\n",
    "            factor_count+=1\n",
    "        if n2%i_other==0 and i!=i_other :\n",
    "            factor_count+=1\n",
    " \n",
    "print (factor_count)"
   ]
  },
  {
   "cell_type": "code",
   "execution_count": 12,
   "metadata": {},
   "outputs": [
    {
     "name": "stdout",
     "output_type": "stream",
     "text": [
      "2\n"
     ]
    }
   ],
   "source": [
    "# Higest Feq eliments \n",
    "def listOfHigestFrequency(l):\n",
    "    d={}\n",
    "    for i in l:\n",
    "        count=l.count(i)#give paticulatr repited \n",
    "        if i not in d:\n",
    "            d[i]=count\n",
    "    return d\n",
    "d=listOfHigestFrequency([1,1,1,1,1,2,2,2,2,2,2,2,2,12,3,3,3,3,31])\n",
    "# l=d.values()\n",
    "# max_val=max(d.values())\n",
    "# max_val\n",
    "l=sorted(d.values(),reverse=True)\n",
    "for i in d.items():\n",
    "    if i[1]== max_val:\n",
    "        print(i[0])"
   ]
  },
  {
   "cell_type": "markdown",
   "metadata": {},
   "source": [
    "## Odd EXIT\n"
   ]
  },
  {
   "cell_type": "code",
   "execution_count": 14,
   "metadata": {},
   "outputs": [
    {
     "name": "stdout",
     "output_type": "stream",
     "text": [
      "32\n",
      "32 35\n",
      "34\n",
      "34 24\n",
      "24 89\n",
      "2346\n",
      "2346 EXIT\n",
      "\n",
      "\n",
      "2346\n"
     ]
    }
   ],
   "source": [
    "#Mr.Dixit \n",
    "#32\n",
    "max_element=0\n",
    "while True:\n",
    "    n=input()\n",
    "    if n=='EXIT':\n",
    "        break\n",
    "    num=int(n)\n",
    "    if num%2==0:\n",
    "        print(num,end=\" \")\n",
    "        if max_element<num:\n",
    "            max_element=num\n",
    "print(\"\\n\")\n",
    "print(max_element)\n",
    "    "
   ]
  },
  {
   "cell_type": "code",
   "execution_count": 15,
   "metadata": {},
   "outputs": [
    {
     "name": "stdout",
     "output_type": "stream",
     "text": [
      "http://amazon.com\n"
     ]
    },
    {
     "ename": "ValueError",
     "evalue": "invalid literal for int() with base 10: 'http://amazon.com'",
     "output_type": "error",
     "traceback": [
      "\u001b[1;31m---------------------------------------------------------------------------\u001b[0m",
      "\u001b[1;31mValueError\u001b[0m                                Traceback (most recent call last)",
      "\u001b[1;32m<ipython-input-15-857b970286f9>\u001b[0m in \u001b[0;36m<module>\u001b[1;34m\u001b[0m\n\u001b[0;32m      2\u001b[0m \u001b[1;31m#https://hackerearth.com\u001b[0m\u001b[1;33m\u001b[0m\u001b[1;33m\u001b[0m\u001b[1;33m\u001b[0m\u001b[0m\n\u001b[0;32m      3\u001b[0m \u001b[1;31m#http://amazon.com\u001b[0m\u001b[1;33m\u001b[0m\u001b[1;33m\u001b[0m\u001b[1;33m\u001b[0m\u001b[0m\n\u001b[1;32m----> 4\u001b[1;33m \u001b[0mn\u001b[0m\u001b[1;33m=\u001b[0m\u001b[0mint\u001b[0m\u001b[1;33m(\u001b[0m\u001b[0minput\u001b[0m\u001b[1;33m(\u001b[0m\u001b[1;33m)\u001b[0m\u001b[1;33m)\u001b[0m\u001b[1;33m\u001b[0m\u001b[1;33m\u001b[0m\u001b[0m\n\u001b[0m\u001b[0;32m      5\u001b[0m \u001b[0md\u001b[0m\u001b[1;33m=\u001b[0m\u001b[1;33m{\u001b[0m\u001b[1;33m}\u001b[0m\u001b[1;33m\u001b[0m\u001b[1;33m\u001b[0m\u001b[0m\n\u001b[0;32m      6\u001b[0m \u001b[1;32mfor\u001b[0m \u001b[0mi\u001b[0m \u001b[1;32min\u001b[0m \u001b[0mrange\u001b[0m\u001b[1;33m(\u001b[0m\u001b[0mn\u001b[0m\u001b[1;33m)\u001b[0m\u001b[1;33m:\u001b[0m\u001b[1;33m\u001b[0m\u001b[1;33m\u001b[0m\u001b[0m\n",
      "\u001b[1;31mValueError\u001b[0m: invalid literal for int() with base 10: 'http://amazon.com'"
     ]
    }
   ],
   "source": [
    "#N Urls line by line\n",
    "#https://hackerearth.com\n",
    "#http://amazon.com\n",
    "n=int(input())\n",
    "d={}\n",
    "for i in range(n):\n",
    "    iurl=input().split('.')\n",
    "   # print(iurl.split('.'))\n",
    "    domin=iurl[-1]\n",
    "    d[domin]=iurl[-1]\n",
    "    if domin not in d:\n",
    "        d[domin]=1\n",
    "    else:\n",
    "        d[domin]+=1\n",
    "m=max(d.values())\n",
    "for i in d.items():\n",
    "    if i[1]==m:\n",
    "        print(i[0])"
   ]
  },
  {
   "cell_type": "code",
   "execution_count": null,
   "metadata": {},
   "outputs": [],
   "source": []
  }
 ],
 "metadata": {
  "kernelspec": {
   "display_name": "Python 3",
   "language": "python",
   "name": "python3"
  },
  "language_info": {
   "codemirror_mode": {
    "name": "ipython",
    "version": 3
   },
   "file_extension": ".py",
   "mimetype": "text/x-python",
   "name": "python",
   "nbconvert_exporter": "python",
   "pygments_lexer": "ipython3",
   "version": "3.7.3"
  }
 },
 "nbformat": 4,
 "nbformat_minor": 2
}
